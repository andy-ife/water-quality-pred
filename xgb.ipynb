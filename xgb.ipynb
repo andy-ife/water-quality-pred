{
 "cells": [
  {
   "cell_type": "markdown",
   "id": "81eee89b-41de-43c0-8ecf-0fc49529445c",
   "metadata": {},
   "source": [
    "## Import packages"
   ]
  },
  {
   "cell_type": "code",
   "execution_count": null,
   "id": "f28ad1ef-63ca-4555-b0ca-f66abafe1f63",
   "metadata": {},
   "outputs": [],
   "source": [
    "import pandas as pd\n",
    "import numpy as np\n",
    "import time\n",
    "import matplotlib.pyplot as plt\n",
    "import xgboost as xgb\n",
    "from sklearn.metrics import (\n",
    "    accuracy_score, precision_score, recall_score, f1_score, roc_auc_score, \n",
    "    average_precision_score, confusion_matrix, log_loss, cohen_kappa_score,\n",
    "    ConfusionMatrixDisplay\n",
    ")\n",
    "from sklearn.model_selection import GridSearchCV, cross_val_score\n",
    "from bayes_opt import BayesianOptimization"
   ]
  },
  {
   "cell_type": "markdown",
   "id": "e225690e-e00e-4ad8-b646-42f03bc0ec1b",
   "metadata": {},
   "source": [
    "## Load data, making sure to drop the serial number column, which is not useful for classification"
   ]
  },
  {
   "cell_type": "code",
   "execution_count": 10,
   "id": "3684e98d-1841-4b82-9d86-25481ec45c64",
   "metadata": {},
   "outputs": [],
   "source": [
    "train_df = pd.read_csv('datasets/train.csv', index_col=0)\n",
    "test_df = pd.read_csv('datasets/test.csv', index_col=0)"
   ]
  },
  {
   "cell_type": "markdown",
   "id": "ced85b20-85fe-432c-b262-4e992e262a73",
   "metadata": {},
   "source": [
    "## Clean data"
   ]
  },
  {
   "cell_type": "code",
   "execution_count": 11,
   "id": "0bc78ea6-c8aa-4434-a3fb-6077919989b3",
   "metadata": {},
   "outputs": [
    {
     "data": {
      "text/html": [
       "<div>\n",
       "<style scoped>\n",
       "    .dataframe tbody tr th:only-of-type {\n",
       "        vertical-align: middle;\n",
       "    }\n",
       "\n",
       "    .dataframe tbody tr th {\n",
       "        vertical-align: top;\n",
       "    }\n",
       "\n",
       "    .dataframe thead th {\n",
       "        text-align: right;\n",
       "    }\n",
       "</style>\n",
       "<table border=\"1\" class=\"dataframe\">\n",
       "  <thead>\n",
       "    <tr style=\"text-align: right;\">\n",
       "      <th></th>\n",
       "      <th>Tp</th>\n",
       "      <th>Cl</th>\n",
       "      <th>pH</th>\n",
       "      <th>Redox</th>\n",
       "      <th>Leit</th>\n",
       "      <th>Trueb</th>\n",
       "      <th>Cl_2</th>\n",
       "      <th>fm</th>\n",
       "      <th>Fm_2</th>\n",
       "      <th>EVENT</th>\n",
       "    </tr>\n",
       "  </thead>\n",
       "  <tbody>\n",
       "    <tr>\n",
       "      <th>0</th>\n",
       "      <td>6.5</td>\n",
       "      <td>0.17</td>\n",
       "      <td>8.36</td>\n",
       "      <td>749.0</td>\n",
       "      <td>211.0</td>\n",
       "      <td>0.011</td>\n",
       "      <td>0.118</td>\n",
       "      <td>1677.0</td>\n",
       "      <td>695.0</td>\n",
       "      <td>0</td>\n",
       "    </tr>\n",
       "    <tr>\n",
       "      <th>1</th>\n",
       "      <td>6.5</td>\n",
       "      <td>0.17</td>\n",
       "      <td>8.36</td>\n",
       "      <td>749.0</td>\n",
       "      <td>211.0</td>\n",
       "      <td>0.011</td>\n",
       "      <td>0.118</td>\n",
       "      <td>1561.0</td>\n",
       "      <td>696.0</td>\n",
       "      <td>0</td>\n",
       "    </tr>\n",
       "    <tr>\n",
       "      <th>2</th>\n",
       "      <td>6.5</td>\n",
       "      <td>0.17</td>\n",
       "      <td>8.35</td>\n",
       "      <td>749.0</td>\n",
       "      <td>211.0</td>\n",
       "      <td>0.011</td>\n",
       "      <td>0.117</td>\n",
       "      <td>1581.0</td>\n",
       "      <td>696.0</td>\n",
       "      <td>0</td>\n",
       "    </tr>\n",
       "    <tr>\n",
       "      <th>3</th>\n",
       "      <td>6.5</td>\n",
       "      <td>0.17</td>\n",
       "      <td>8.35</td>\n",
       "      <td>749.0</td>\n",
       "      <td>211.0</td>\n",
       "      <td>0.011</td>\n",
       "      <td>0.118</td>\n",
       "      <td>1579.0</td>\n",
       "      <td>693.0</td>\n",
       "      <td>0</td>\n",
       "    </tr>\n",
       "    <tr>\n",
       "      <th>4</th>\n",
       "      <td>6.5</td>\n",
       "      <td>0.17</td>\n",
       "      <td>8.35</td>\n",
       "      <td>749.0</td>\n",
       "      <td>211.0</td>\n",
       "      <td>0.011</td>\n",
       "      <td>0.118</td>\n",
       "      <td>1567.0</td>\n",
       "      <td>689.0</td>\n",
       "      <td>0</td>\n",
       "    </tr>\n",
       "  </tbody>\n",
       "</table>\n",
       "</div>"
      ],
      "text/plain": [
       "    Tp    Cl    pH  Redox   Leit  Trueb   Cl_2      fm   Fm_2  EVENT\n",
       "0  6.5  0.17  8.36  749.0  211.0  0.011  0.118  1677.0  695.0      0\n",
       "1  6.5  0.17  8.36  749.0  211.0  0.011  0.118  1561.0  696.0      0\n",
       "2  6.5  0.17  8.35  749.0  211.0  0.011  0.117  1581.0  696.0      0\n",
       "3  6.5  0.17  8.35  749.0  211.0  0.011  0.118  1579.0  693.0      0\n",
       "4  6.5  0.17  8.35  749.0  211.0  0.011  0.118  1567.0  689.0      0"
      ]
     },
     "execution_count": 11,
     "metadata": {},
     "output_type": "execute_result"
    }
   ],
   "source": [
    "train_df.head()"
   ]
  },
  {
   "cell_type": "markdown",
   "id": "db40b31c-5f24-411e-9eca-76d5858fdd32",
   "metadata": {},
   "source": [
    "### Columns that have only one unique value aren't useful to classification, and should be dropped"
   ]
  },
  {
   "cell_type": "code",
   "execution_count": 12,
   "id": "b3af41ef-8b48-4426-9ee3-0153bc0c615a",
   "metadata": {},
   "outputs": [
    {
     "data": {
      "text/plain": [
       "array([6.5       , 6.6       , 6.7       , ..., 9.00663063, 8.41352575,\n",
       "       8.22963054], shape=(31635,))"
      ]
     },
     "execution_count": 12,
     "metadata": {},
     "output_type": "execute_result"
    }
   ],
   "source": [
    "train_df['Tp'].unique()"
   ]
  },
  {
   "cell_type": "code",
   "execution_count": 13,
   "id": "31b258ae-08d6-4b1d-9541-b98275540a89",
   "metadata": {},
   "outputs": [
    {
     "data": {
      "text/html": [
       "<div>\n",
       "<style scoped>\n",
       "    .dataframe tbody tr th:only-of-type {\n",
       "        vertical-align: middle;\n",
       "    }\n",
       "\n",
       "    .dataframe tbody tr th {\n",
       "        vertical-align: top;\n",
       "    }\n",
       "\n",
       "    .dataframe thead th {\n",
       "        text-align: right;\n",
       "    }\n",
       "</style>\n",
       "<table border=\"1\" class=\"dataframe\">\n",
       "  <thead>\n",
       "    <tr style=\"text-align: right;\">\n",
       "      <th></th>\n",
       "      <th>Tp</th>\n",
       "      <th>Cl</th>\n",
       "      <th>pH</th>\n",
       "      <th>Redox</th>\n",
       "      <th>Leit</th>\n",
       "      <th>Trueb</th>\n",
       "      <th>Cl_2</th>\n",
       "      <th>fm</th>\n",
       "      <th>Fm_2</th>\n",
       "      <th>EVENT</th>\n",
       "    </tr>\n",
       "  </thead>\n",
       "  <tbody>\n",
       "    <tr>\n",
       "      <th>0</th>\n",
       "      <td>10.1</td>\n",
       "      <td>0.17</td>\n",
       "      <td>8.41</td>\n",
       "      <td>762.0</td>\n",
       "      <td>190.0</td>\n",
       "      <td>0.022</td>\n",
       "      <td>0.106</td>\n",
       "      <td>1818.0</td>\n",
       "      <td>920.0</td>\n",
       "      <td>0</td>\n",
       "    </tr>\n",
       "    <tr>\n",
       "      <th>1</th>\n",
       "      <td>10.1</td>\n",
       "      <td>0.18</td>\n",
       "      <td>8.41</td>\n",
       "      <td>762.0</td>\n",
       "      <td>190.0</td>\n",
       "      <td>0.022</td>\n",
       "      <td>0.106</td>\n",
       "      <td>1805.0</td>\n",
       "      <td>927.0</td>\n",
       "      <td>0</td>\n",
       "    </tr>\n",
       "    <tr>\n",
       "      <th>2</th>\n",
       "      <td>10.1</td>\n",
       "      <td>0.19</td>\n",
       "      <td>8.41</td>\n",
       "      <td>762.0</td>\n",
       "      <td>189.0</td>\n",
       "      <td>0.022</td>\n",
       "      <td>0.108</td>\n",
       "      <td>1787.0</td>\n",
       "      <td>927.0</td>\n",
       "      <td>0</td>\n",
       "    </tr>\n",
       "    <tr>\n",
       "      <th>3</th>\n",
       "      <td>10.1</td>\n",
       "      <td>0.18</td>\n",
       "      <td>8.41</td>\n",
       "      <td>762.0</td>\n",
       "      <td>190.0</td>\n",
       "      <td>0.022</td>\n",
       "      <td>0.108</td>\n",
       "      <td>1790.0</td>\n",
       "      <td>936.0</td>\n",
       "      <td>0</td>\n",
       "    </tr>\n",
       "    <tr>\n",
       "      <th>4</th>\n",
       "      <td>10.1</td>\n",
       "      <td>0.18</td>\n",
       "      <td>8.41</td>\n",
       "      <td>762.0</td>\n",
       "      <td>189.0</td>\n",
       "      <td>0.022</td>\n",
       "      <td>0.108</td>\n",
       "      <td>1827.0</td>\n",
       "      <td>924.0</td>\n",
       "      <td>0</td>\n",
       "    </tr>\n",
       "  </tbody>\n",
       "</table>\n",
       "</div>"
      ],
      "text/plain": [
       "     Tp    Cl    pH  Redox   Leit  Trueb   Cl_2      fm   Fm_2  EVENT\n",
       "0  10.1  0.17  8.41  762.0  190.0  0.022  0.106  1818.0  920.0      0\n",
       "1  10.1  0.18  8.41  762.0  190.0  0.022  0.106  1805.0  927.0      0\n",
       "2  10.1  0.19  8.41  762.0  189.0  0.022  0.108  1787.0  927.0      0\n",
       "3  10.1  0.18  8.41  762.0  190.0  0.022  0.108  1790.0  936.0      0\n",
       "4  10.1  0.18  8.41  762.0  189.0  0.022  0.108  1827.0  924.0      0"
      ]
     },
     "execution_count": 13,
     "metadata": {},
     "output_type": "execute_result"
    }
   ],
   "source": [
    "test_df.head()"
   ]
  },
  {
   "cell_type": "code",
   "execution_count": 14,
   "id": "6083873b-552b-4d64-a90f-8b97c87cf3ec",
   "metadata": {},
   "outputs": [
    {
     "data": {
      "text/plain": [
       "array([0, 1])"
      ]
     },
     "execution_count": 14,
     "metadata": {},
     "output_type": "execute_result"
    }
   ],
   "source": [
    "test_df['EVENT'].unique()"
   ]
  },
  {
   "cell_type": "markdown",
   "id": "41669b5c-4f8f-4e9d-afef-df3ade0c6af2",
   "metadata": {},
   "source": [
    "## Check datatypes"
   ]
  },
  {
   "cell_type": "code",
   "execution_count": 15,
   "id": "5fb7c1c9-d14d-44a3-8446-106ba0cf0765",
   "metadata": {},
   "outputs": [
    {
     "data": {
      "text/plain": [
       "Tp       float64\n",
       "Cl       float64\n",
       "pH       float64\n",
       "Redox    float64\n",
       "Leit     float64\n",
       "Trueb    float64\n",
       "Cl_2     float64\n",
       "fm       float64\n",
       "Fm_2     float64\n",
       "EVENT      int64\n",
       "dtype: object"
      ]
     },
     "execution_count": 15,
     "metadata": {},
     "output_type": "execute_result"
    }
   ],
   "source": [
    "train_df.dtypes"
   ]
  },
  {
   "cell_type": "code",
   "execution_count": 16,
   "id": "49a6eea4-9ac9-4366-89e5-b063d20036d2",
   "metadata": {},
   "outputs": [
    {
     "data": {
      "text/plain": [
       "Tp       float64\n",
       "Cl       float64\n",
       "pH       float64\n",
       "Redox    float64\n",
       "Leit     float64\n",
       "Trueb    float64\n",
       "Cl_2     float64\n",
       "fm       float64\n",
       "Fm_2     float64\n",
       "EVENT      int64\n",
       "dtype: object"
      ]
     },
     "execution_count": 16,
     "metadata": {},
     "output_type": "execute_result"
    }
   ],
   "source": [
    "test_df.dtypes"
   ]
  },
  {
   "cell_type": "markdown",
   "id": "9b31ba91-9b1b-49eb-a3ce-355c0a845116",
   "metadata": {},
   "source": [
    "## Format data for XGBoost"
   ]
  },
  {
   "cell_type": "markdown",
   "id": "8a782fed-e218-401f-85fe-cfe885416f3f",
   "metadata": {},
   "source": [
    "### Split test and training data into X_train, y_train, X_test, y_test"
   ]
  },
  {
   "cell_type": "code",
   "execution_count": 17,
   "id": "23672951-fa44-43e5-84ea-9e68aa6320fb",
   "metadata": {},
   "outputs": [],
   "source": [
    "X_train = train_df.drop(columns=['EVENT']) # Features\n",
    "y_train = train_df['EVENT'] # Labels\n",
    "X_test = test_df.drop(columns=['EVENT'])\n",
    "y_test = test_df['EVENT']"
   ]
  },
  {
   "cell_type": "code",
   "execution_count": 18,
   "id": "75e8ed1f-caec-43cc-84e9-aee763bd33b4",
   "metadata": {},
   "outputs": [
    {
     "data": {
      "text/html": [
       "<div>\n",
       "<style scoped>\n",
       "    .dataframe tbody tr th:only-of-type {\n",
       "        vertical-align: middle;\n",
       "    }\n",
       "\n",
       "    .dataframe tbody tr th {\n",
       "        vertical-align: top;\n",
       "    }\n",
       "\n",
       "    .dataframe thead th {\n",
       "        text-align: right;\n",
       "    }\n",
       "</style>\n",
       "<table border=\"1\" class=\"dataframe\">\n",
       "  <thead>\n",
       "    <tr style=\"text-align: right;\">\n",
       "      <th></th>\n",
       "      <th>Tp</th>\n",
       "      <th>Cl</th>\n",
       "      <th>pH</th>\n",
       "      <th>Redox</th>\n",
       "      <th>Leit</th>\n",
       "      <th>Trueb</th>\n",
       "      <th>Cl_2</th>\n",
       "      <th>fm</th>\n",
       "      <th>Fm_2</th>\n",
       "    </tr>\n",
       "  </thead>\n",
       "  <tbody>\n",
       "    <tr>\n",
       "      <th>0</th>\n",
       "      <td>6.5</td>\n",
       "      <td>0.17</td>\n",
       "      <td>8.36</td>\n",
       "      <td>749.0</td>\n",
       "      <td>211.0</td>\n",
       "      <td>0.011</td>\n",
       "      <td>0.118</td>\n",
       "      <td>1677.0</td>\n",
       "      <td>695.0</td>\n",
       "    </tr>\n",
       "    <tr>\n",
       "      <th>1</th>\n",
       "      <td>6.5</td>\n",
       "      <td>0.17</td>\n",
       "      <td>8.36</td>\n",
       "      <td>749.0</td>\n",
       "      <td>211.0</td>\n",
       "      <td>0.011</td>\n",
       "      <td>0.118</td>\n",
       "      <td>1561.0</td>\n",
       "      <td>696.0</td>\n",
       "    </tr>\n",
       "    <tr>\n",
       "      <th>2</th>\n",
       "      <td>6.5</td>\n",
       "      <td>0.17</td>\n",
       "      <td>8.35</td>\n",
       "      <td>749.0</td>\n",
       "      <td>211.0</td>\n",
       "      <td>0.011</td>\n",
       "      <td>0.117</td>\n",
       "      <td>1581.0</td>\n",
       "      <td>696.0</td>\n",
       "    </tr>\n",
       "    <tr>\n",
       "      <th>3</th>\n",
       "      <td>6.5</td>\n",
       "      <td>0.17</td>\n",
       "      <td>8.35</td>\n",
       "      <td>749.0</td>\n",
       "      <td>211.0</td>\n",
       "      <td>0.011</td>\n",
       "      <td>0.118</td>\n",
       "      <td>1579.0</td>\n",
       "      <td>693.0</td>\n",
       "    </tr>\n",
       "    <tr>\n",
       "      <th>4</th>\n",
       "      <td>6.5</td>\n",
       "      <td>0.17</td>\n",
       "      <td>8.35</td>\n",
       "      <td>749.0</td>\n",
       "      <td>211.0</td>\n",
       "      <td>0.011</td>\n",
       "      <td>0.118</td>\n",
       "      <td>1567.0</td>\n",
       "      <td>689.0</td>\n",
       "    </tr>\n",
       "  </tbody>\n",
       "</table>\n",
       "</div>"
      ],
      "text/plain": [
       "    Tp    Cl    pH  Redox   Leit  Trueb   Cl_2      fm   Fm_2\n",
       "0  6.5  0.17  8.36  749.0  211.0  0.011  0.118  1677.0  695.0\n",
       "1  6.5  0.17  8.36  749.0  211.0  0.011  0.118  1561.0  696.0\n",
       "2  6.5  0.17  8.35  749.0  211.0  0.011  0.117  1581.0  696.0\n",
       "3  6.5  0.17  8.35  749.0  211.0  0.011  0.118  1579.0  693.0\n",
       "4  6.5  0.17  8.35  749.0  211.0  0.011  0.118  1567.0  689.0"
      ]
     },
     "execution_count": 18,
     "metadata": {},
     "output_type": "execute_result"
    }
   ],
   "source": [
    "X_train.head()"
   ]
  },
  {
   "cell_type": "code",
   "execution_count": 19,
   "id": "742a6e8d-18e6-4606-84b6-cf3e36855142",
   "metadata": {},
   "outputs": [
    {
     "data": {
      "text/plain": [
       "0    0\n",
       "1    0\n",
       "2    0\n",
       "3    0\n",
       "4    0\n",
       "Name: EVENT, dtype: int64"
      ]
     },
     "execution_count": 19,
     "metadata": {},
     "output_type": "execute_result"
    }
   ],
   "source": [
    "y_train.head()"
   ]
  },
  {
   "cell_type": "code",
   "execution_count": 20,
   "id": "1900aef6-1b68-4cc6-b7cb-969502883169",
   "metadata": {},
   "outputs": [
    {
     "data": {
      "text/html": [
       "<div>\n",
       "<style scoped>\n",
       "    .dataframe tbody tr th:only-of-type {\n",
       "        vertical-align: middle;\n",
       "    }\n",
       "\n",
       "    .dataframe tbody tr th {\n",
       "        vertical-align: top;\n",
       "    }\n",
       "\n",
       "    .dataframe thead th {\n",
       "        text-align: right;\n",
       "    }\n",
       "</style>\n",
       "<table border=\"1\" class=\"dataframe\">\n",
       "  <thead>\n",
       "    <tr style=\"text-align: right;\">\n",
       "      <th></th>\n",
       "      <th>Tp</th>\n",
       "      <th>Cl</th>\n",
       "      <th>pH</th>\n",
       "      <th>Redox</th>\n",
       "      <th>Leit</th>\n",
       "      <th>Trueb</th>\n",
       "      <th>Cl_2</th>\n",
       "      <th>fm</th>\n",
       "      <th>Fm_2</th>\n",
       "    </tr>\n",
       "  </thead>\n",
       "  <tbody>\n",
       "    <tr>\n",
       "      <th>0</th>\n",
       "      <td>10.1</td>\n",
       "      <td>0.17</td>\n",
       "      <td>8.41</td>\n",
       "      <td>762.0</td>\n",
       "      <td>190.0</td>\n",
       "      <td>0.022</td>\n",
       "      <td>0.106</td>\n",
       "      <td>1818.0</td>\n",
       "      <td>920.0</td>\n",
       "    </tr>\n",
       "    <tr>\n",
       "      <th>1</th>\n",
       "      <td>10.1</td>\n",
       "      <td>0.18</td>\n",
       "      <td>8.41</td>\n",
       "      <td>762.0</td>\n",
       "      <td>190.0</td>\n",
       "      <td>0.022</td>\n",
       "      <td>0.106</td>\n",
       "      <td>1805.0</td>\n",
       "      <td>927.0</td>\n",
       "    </tr>\n",
       "    <tr>\n",
       "      <th>2</th>\n",
       "      <td>10.1</td>\n",
       "      <td>0.19</td>\n",
       "      <td>8.41</td>\n",
       "      <td>762.0</td>\n",
       "      <td>189.0</td>\n",
       "      <td>0.022</td>\n",
       "      <td>0.108</td>\n",
       "      <td>1787.0</td>\n",
       "      <td>927.0</td>\n",
       "    </tr>\n",
       "    <tr>\n",
       "      <th>3</th>\n",
       "      <td>10.1</td>\n",
       "      <td>0.18</td>\n",
       "      <td>8.41</td>\n",
       "      <td>762.0</td>\n",
       "      <td>190.0</td>\n",
       "      <td>0.022</td>\n",
       "      <td>0.108</td>\n",
       "      <td>1790.0</td>\n",
       "      <td>936.0</td>\n",
       "    </tr>\n",
       "    <tr>\n",
       "      <th>4</th>\n",
       "      <td>10.1</td>\n",
       "      <td>0.18</td>\n",
       "      <td>8.41</td>\n",
       "      <td>762.0</td>\n",
       "      <td>189.0</td>\n",
       "      <td>0.022</td>\n",
       "      <td>0.108</td>\n",
       "      <td>1827.0</td>\n",
       "      <td>924.0</td>\n",
       "    </tr>\n",
       "  </tbody>\n",
       "</table>\n",
       "</div>"
      ],
      "text/plain": [
       "     Tp    Cl    pH  Redox   Leit  Trueb   Cl_2      fm   Fm_2\n",
       "0  10.1  0.17  8.41  762.0  190.0  0.022  0.106  1818.0  920.0\n",
       "1  10.1  0.18  8.41  762.0  190.0  0.022  0.106  1805.0  927.0\n",
       "2  10.1  0.19  8.41  762.0  189.0  0.022  0.108  1787.0  927.0\n",
       "3  10.1  0.18  8.41  762.0  190.0  0.022  0.108  1790.0  936.0\n",
       "4  10.1  0.18  8.41  762.0  189.0  0.022  0.108  1827.0  924.0"
      ]
     },
     "execution_count": 20,
     "metadata": {},
     "output_type": "execute_result"
    }
   ],
   "source": [
    "X_test.head()"
   ]
  },
  {
   "cell_type": "code",
   "execution_count": 21,
   "id": "726080cf-5e97-4715-81b6-2cc13fbe4e2d",
   "metadata": {},
   "outputs": [
    {
     "data": {
      "text/plain": [
       "0    0\n",
       "1    0\n",
       "2    0\n",
       "3    0\n",
       "4    0\n",
       "Name: EVENT, dtype: int64"
      ]
     },
     "execution_count": 21,
     "metadata": {},
     "output_type": "execute_result"
    }
   ],
   "source": [
    "y_test.head()"
   ]
  },
  {
   "cell_type": "markdown",
   "id": "51bc4bff-1d56-4eb7-b378-be15692d7b31",
   "metadata": {},
   "source": [
    "## Build initial model with early stopping"
   ]
  },
  {
   "cell_type": "code",
   "execution_count": 22,
   "id": "e4785873-5d2a-4223-97d3-01f0cff74562",
   "metadata": {},
   "outputs": [],
   "source": [
    "start_time = time.time()\n",
    "\n",
    "model = xgb.XGBClassifier(objective=\"binary:logistic\", missing=np.nan, seed=42, early_stopping_rounds=10, eval_metric='aucpr', verbosity=1)"
   ]
  },
  {
   "cell_type": "code",
   "execution_count": 23,
   "id": "766f61e0-43c0-4d2b-82ed-005231aebfef",
   "metadata": {},
   "outputs": [
    {
     "name": "stdout",
     "output_type": "stream",
     "text": [
      "[0]\tvalidation_0-aucpr:0.07407\n",
      "[1]\tvalidation_0-aucpr:0.07642\n",
      "[2]\tvalidation_0-aucpr:0.09512\n",
      "[3]\tvalidation_0-aucpr:0.09038\n",
      "[4]\tvalidation_0-aucpr:0.20048\n",
      "[5]\tvalidation_0-aucpr:0.22645\n",
      "[6]\tvalidation_0-aucpr:0.12716\n",
      "[7]\tvalidation_0-aucpr:0.21921\n",
      "[8]\tvalidation_0-aucpr:0.21260\n",
      "[9]\tvalidation_0-aucpr:0.18979\n",
      "[10]\tvalidation_0-aucpr:0.20664\n",
      "[11]\tvalidation_0-aucpr:0.20412\n",
      "[12]\tvalidation_0-aucpr:0.21504\n",
      "[13]\tvalidation_0-aucpr:0.21433\n",
      "[14]\tvalidation_0-aucpr:0.22630\n",
      "[15]\tvalidation_0-aucpr:0.22953\n",
      "[16]\tvalidation_0-aucpr:0.23742\n",
      "[17]\tvalidation_0-aucpr:0.24217\n",
      "[18]\tvalidation_0-aucpr:0.24636\n",
      "[19]\tvalidation_0-aucpr:0.26029\n",
      "[20]\tvalidation_0-aucpr:0.24466\n",
      "[21]\tvalidation_0-aucpr:0.25721\n",
      "[22]\tvalidation_0-aucpr:0.25414\n",
      "[23]\tvalidation_0-aucpr:0.26390\n",
      "[24]\tvalidation_0-aucpr:0.26742\n",
      "[25]\tvalidation_0-aucpr:0.26995\n",
      "[26]\tvalidation_0-aucpr:0.27085\n",
      "[27]\tvalidation_0-aucpr:0.26311\n",
      "[28]\tvalidation_0-aucpr:0.27310\n",
      "[29]\tvalidation_0-aucpr:0.27127\n",
      "[30]\tvalidation_0-aucpr:0.27279\n",
      "[31]\tvalidation_0-aucpr:0.27483\n",
      "[32]\tvalidation_0-aucpr:0.27558\n",
      "[33]\tvalidation_0-aucpr:0.27486\n",
      "[34]\tvalidation_0-aucpr:0.27502\n",
      "[35]\tvalidation_0-aucpr:0.27465\n",
      "[36]\tvalidation_0-aucpr:0.27176\n",
      "[37]\tvalidation_0-aucpr:0.26965\n",
      "[38]\tvalidation_0-aucpr:0.26917\n",
      "[39]\tvalidation_0-aucpr:0.26782\n",
      "[40]\tvalidation_0-aucpr:0.26950\n",
      "[41]\tvalidation_0-aucpr:0.26601\n",
      "Training time: 3.0637 seconds\n"
     ]
    }
   ],
   "source": [
    "model.fit(X_train, y_train, verbose=True, eval_set=[(X_test, y_test)])\n",
    "\n",
    "end_time = time.time()\n",
    "\n",
    "# Calculate training time\n",
    "training_time = end_time - start_time\n",
    "\n",
    "# Print the training time\n",
    "print(f\"Training time: {training_time:.4f} seconds\")"
   ]
  },
  {
   "cell_type": "markdown",
   "id": "3630e810-b925-45b6-beb1-80b48f0222e2",
   "metadata": {},
   "source": [
    "## Get predictions from model"
   ]
  },
  {
   "cell_type": "code",
   "execution_count": 24,
   "id": "24c12074-49e5-499a-acc4-13391ae70796",
   "metadata": {},
   "outputs": [],
   "source": [
    "y_pred = model.predict(X_test)"
   ]
  },
  {
   "cell_type": "markdown",
   "id": "0554e804-d129-426c-95f5-8988d597de10",
   "metadata": {},
   "source": [
    "## Plot confusion matrix"
   ]
  },
  {
   "cell_type": "code",
   "execution_count": 25,
   "id": "f63f260b-aa9d-41ae-a97e-c21b20f4a138",
   "metadata": {},
   "outputs": [
    {
     "data": {
      "text/plain": [
       "<sklearn.metrics._plot.confusion_matrix.ConfusionMatrixDisplay at 0x7f74ba765610>"
      ]
     },
     "execution_count": 25,
     "metadata": {},
     "output_type": "execute_result"
    },
    {
     "data": {
      "image/png": "[encoded data removed]",
      "text/plain": [
       "<Figure size 640x480 with 2 Axes>"
      ]
     },
     "metadata": {},
     "output_type": "display_data"
    }
   ],
   "source": [
    "cm = confusion_matrix(y_test, y_pred)\n",
    "disp = ConfusionMatrixDisplay(confusion_matrix=cm)\n",
    "disp.plot()"
   ]
  },
  {
   "cell_type": "markdown",
   "id": "5ac25f1d-e66c-4d84-a800-2cec5c3cd094",
   "metadata": {},
   "source": [
    "## Get other metrics"
   ]
  },
  {
   "cell_type": "code",
   "execution_count": 26,
   "id": "9d7c2617-9be7-4e4c-8606-fecffd12f716",
   "metadata": {},
   "outputs": [
    {
     "name": "stdout",
     "output_type": "stream",
     "text": [
      "Accuracy:  0.9756889213705344\n",
      "Precision:  0.2646017699115044\n",
      "Recall:  0.2567625590382138\n",
      "F1 Score:  0.26062322946175637\n",
      "ROC-AUC:  0.7114238144964975\n",
      "PR-AUC (Average Precision):  0.2756817015227641\n",
      "Confusion Matrix:\n",
      " [[135575   1662]\n",
      " [  1731    598]]\n",
      "Log Loss:  0.10097984959400425\n",
      "Cohen's Kappa:  0.24826735044932613\n"
     ]
    }
   ],
   "source": [
    "y_pred_proba = model.predict_proba(X_test)[:, 1] # Probabilities for positive class only\n",
    "\n",
    "print(\"Accuracy: \", accuracy_score(y_test, y_pred))\n",
    "print(\"Precision: \", precision_score(y_test, y_pred))\n",
    "print(\"Recall: \", recall_score(y_test, y_pred))\n",
    "print(\"F1 Score: \", f1_score(y_test, y_pred))\n",
    "print(\"ROC-AUC: \", roc_auc_score(y_test, y_pred_proba))\n",
    "print(\"PR-AUC (Average Precision): \", average_precision_score(y_test, y_pred_proba))\n",
    "print(\"Confusion Matrix:\\n\", confusion_matrix(y_test, y_pred, labels=[0,1]))\n",
    "print(\"Log Loss: \", log_loss(y_test, y_pred_proba))\n",
    "print(\"Cohen's Kappa: \", cohen_kappa_score(y_test, y_pred))"
   ]
  },
  {
   "cell_type": "markdown",
   "id": "463b4415-99f8-430a-9cac-3aad19be2f1f",
   "metadata": {},
   "source": [
    "## Optimize hyper parameters using Bayesian Optimization and Cross Validation"
   ]
  },
  {
   "cell_type": "markdown",
   "id": "338fde3d-80ab-4816-b5dc-066d49ece66c",
   "metadata": {},
   "source": [
    "### Round 1"
   ]
  },
  {
   "cell_type": "code",
   "execution_count": 69,
   "id": "1f4c512c-225e-4daa-8053-48d34d528c1e",
   "metadata": {},
   "outputs": [],
   "source": [
    "# Function to optimize\n",
    "def xgb_cv(gamma, learning_rate, max_depth, reg_lambda, scale_pos_weight):\n",
    "    model = xgb.XGBClassifier(\n",
    "        n_estimators=100,\n",
    "        gamma=gamma,\n",
    "        learning_rate=learning_rate,\n",
    "        max_depth=int(max_depth),  # Must be integer\n",
    "        reg_lambda=reg_lambda,\n",
    "        scale_pos_weight=scale_pos_weight,\n",
    "        use_label_encoder=False,\n",
    "        eval_metric='logloss',\n",
    "        random_state=42\n",
    "    )\n",
    "    scores = cross_val_score(model, X_train, y_train, cv=3, scoring='roc_auc')\n",
    "    return scores.mean()"
   ]
  },
  {
   "cell_type": "code",
   "execution_count": 70,
   "id": "6ba54b6f-709b-4356-9c2e-5f73ab1165ce",
   "metadata": {},
   "outputs": [],
   "source": [
    "param_grid = {\n",
    "    'max_depth': (3, 10),\n",
    "    'learning_rate': (0.01, 0.3),\n",
    "    'gamma': (0, 5),\n",
    "    'reg_lambda': (0, 10),\n",
    "    'scale_pos_weight': (1, 10)\n",
    "}"
   ]
  },
  {
   "cell_type": "code",
   "execution_count": 71,
   "id": "021a8e11-f139-4d0e-abe6-5a08de88ef33",
   "metadata": {},
   "outputs": [
    {
     "name": "stdout",
     "output_type": "stream",
     "text": [
      "|   iter    |  target   |   gamma   | learni... | max_depth | reg_la... | scale_... |\n",
      "-------------------------------------------------------------------------------------\n"
     ]
    },
    {
     "name": "stderr",
     "output_type": "stream",
     "text": [
      "/home/goose/PythonProjects/water-quality-pred/venv/lib/python3.12/site-packages/xgboost/training.py:183: UserWarning: [13:12:23] WARNING: /workspace/src/learner.cc:738: \n",
      "Parameters: { \"use_label_encoder\" } are not used.\n",
      "\n",
      "  bst.update(dtrain, iteration=i, fobj=obj)\n",
      "/home/goose/PythonProjects/water-quality-pred/venv/lib/python3.12/site-packages/xgboost/training.py:183: UserWarning: [13:12:26] WARNING: /workspace/src/learner.cc:738: \n",
      "Parameters: { \"use_label_encoder\" } are not used.\n",
      "\n",
      "  bst.update(dtrain, iteration=i, fobj=obj)\n",
      "/home/goose/PythonProjects/water-quality-pred/venv/lib/python3.12/site-packages/xgboost/training.py:183: UserWarning: [13:12:28] WARNING: /workspace/src/learner.cc:738: \n",
      "Parameters: { \"use_label_encoder\" } are not used.\n",
      "\n",
      "  bst.update(dtrain, iteration=i, fobj=obj)\n"
     ]
    },
    {
     "name": "stdout",
     "output_type": "stream",
     "text": [
      "| \u001b[39m1        \u001b[39m | \u001b[39m0.9969   \u001b[39m | \u001b[39m1.873    \u001b[39m | \u001b[39m0.2857   \u001b[39m | \u001b[39m8.124    \u001b[39m | \u001b[39m5.987    \u001b[39m | \u001b[39m2.404    \u001b[39m |\n"
     ]
    },
    {
     "name": "stderr",
     "output_type": "stream",
     "text": [
      "/home/goose/PythonProjects/water-quality-pred/venv/lib/python3.12/site-packages/xgboost/training.py:183: UserWarning: [13:12:31] WARNING: /workspace/src/learner.cc:738: \n",
      "Parameters: { \"use_label_encoder\" } are not used.\n",
      "\n",
      "  bst.update(dtrain, iteration=i, fobj=obj)\n",
      "/home/goose/PythonProjects/water-quality-pred/venv/lib/python3.12/site-packages/xgboost/training.py:183: UserWarning: [13:12:34] WARNING: /workspace/src/learner.cc:738: \n",
      "Parameters: { \"use_label_encoder\" } are not used.\n",
      "\n",
      "  bst.update(dtrain, iteration=i, fobj=obj)\n",
      "/home/goose/PythonProjects/water-quality-pred/venv/lib/python3.12/site-packages/xgboost/training.py:183: UserWarning: [13:12:39] WARNING: /workspace/src/learner.cc:738: \n",
      "Parameters: { \"use_label_encoder\" } are not used.\n",
      "\n",
      "  bst.update(dtrain, iteration=i, fobj=obj)\n"
     ]
    },
    {
     "name": "stdout",
     "output_type": "stream",
     "text": [
      "| \u001b[39m2        \u001b[39m | \u001b[39m0.9872   \u001b[39m | \u001b[39m0.78     \u001b[39m | \u001b[39m0.02684  \u001b[39m | \u001b[39m9.063    \u001b[39m | \u001b[39m6.011    \u001b[39m | \u001b[39m7.373    \u001b[39m |\n"
     ]
    },
    {
     "name": "stderr",
     "output_type": "stream",
     "text": [
      "/home/goose/PythonProjects/water-quality-pred/venv/lib/python3.12/site-packages/xgboost/training.py:183: UserWarning: [13:12:42] WARNING: /workspace/src/learner.cc:738: \n",
      "Parameters: { \"use_label_encoder\" } are not used.\n",
      "\n",
      "  bst.update(dtrain, iteration=i, fobj=obj)\n",
      "/home/goose/PythonProjects/water-quality-pred/venv/lib/python3.12/site-packages/xgboost/training.py:183: UserWarning: [13:12:45] WARNING: /workspace/src/learner.cc:738: \n",
      "Parameters: { \"use_label_encoder\" } are not used.\n",
      "\n",
      "  bst.update(dtrain, iteration=i, fobj=obj)\n",
      "/home/goose/PythonProjects/water-quality-pred/venv/lib/python3.12/site-packages/xgboost/training.py:183: UserWarning: [13:12:47] WARNING: /workspace/src/learner.cc:738: \n",
      "Parameters: { \"use_label_encoder\" } are not used.\n",
      "\n",
      "  bst.update(dtrain, iteration=i, fobj=obj)\n"
     ]
    },
    {
     "name": "stdout",
     "output_type": "stream",
     "text": [
      "| \u001b[39m3        \u001b[39m | \u001b[39m0.9958   \u001b[39m | \u001b[39m0.1029   \u001b[39m | \u001b[39m0.2913   \u001b[39m | \u001b[39m8.827    \u001b[39m | \u001b[39m2.123    \u001b[39m | \u001b[39m2.636    \u001b[39m |\n"
     ]
    },
    {
     "name": "stderr",
     "output_type": "stream",
     "text": [
      "/home/goose/PythonProjects/water-quality-pred/venv/lib/python3.12/site-packages/xgboost/training.py:183: UserWarning: [13:12:50] WARNING: /workspace/src/learner.cc:738: \n",
      "Parameters: { \"use_label_encoder\" } are not used.\n",
      "\n",
      "  bst.update(dtrain, iteration=i, fobj=obj)\n",
      "/home/goose/PythonProjects/water-quality-pred/venv/lib/python3.12/site-packages/xgboost/training.py:183: UserWarning: [13:12:57] WARNING: /workspace/src/learner.cc:738: \n",
      "Parameters: { \"use_label_encoder\" } are not used.\n",
      "\n",
      "  bst.update(dtrain, iteration=i, fobj=obj)\n",
      "/home/goose/PythonProjects/water-quality-pred/venv/lib/python3.12/site-packages/xgboost/training.py:183: UserWarning: [13:13:05] WARNING: /workspace/src/learner.cc:738: \n",
      "Parameters: { \"use_label_encoder\" } are not used.\n",
      "\n",
      "  bst.update(dtrain, iteration=i, fobj=obj)\n"
     ]
    },
    {
     "name": "stdout",
     "output_type": "stream",
     "text": [
      "| \u001b[39m4        \u001b[39m | \u001b[39m0.9948   \u001b[39m | \u001b[39m0.917    \u001b[39m | \u001b[39m0.09823  \u001b[39m | \u001b[39m6.673    \u001b[39m | \u001b[39m4.319    \u001b[39m | \u001b[39m3.621    \u001b[39m |\n"
     ]
    },
    {
     "name": "stderr",
     "output_type": "stream",
     "text": [
      "/home/goose/PythonProjects/water-quality-pred/venv/lib/python3.12/site-packages/xgboost/training.py:183: UserWarning: [13:13:11] WARNING: /workspace/src/learner.cc:738: \n",
      "Parameters: { \"use_label_encoder\" } are not used.\n",
      "\n",
      "  bst.update(dtrain, iteration=i, fobj=obj)\n",
      "/home/goose/PythonProjects/water-quality-pred/venv/lib/python3.12/site-packages/xgboost/training.py:183: UserWarning: [13:13:15] WARNING: /workspace/src/learner.cc:738: \n",
      "Parameters: { \"use_label_encoder\" } are not used.\n",
      "\n",
      "  bst.update(dtrain, iteration=i, fobj=obj)\n",
      "/home/goose/PythonProjects/water-quality-pred/venv/lib/python3.12/site-packages/xgboost/training.py:183: UserWarning: [13:13:18] WARNING: /workspace/src/learner.cc:738: \n",
      "Parameters: { \"use_label_encoder\" } are not used.\n",
      "\n",
      "  bst.update(dtrain, iteration=i, fobj=obj)\n"
     ]
    },
    {
     "name": "stdout",
     "output_type": "stream",
     "text": [
      "| \u001b[39m5        \u001b[39m | \u001b[39m0.9878   \u001b[39m | \u001b[39m3.059    \u001b[39m | \u001b[39m0.05045  \u001b[39m | \u001b[39m5.045    \u001b[39m | \u001b[39m3.664    \u001b[39m | \u001b[39m5.105    \u001b[39m |\n"
     ]
    },
    {
     "name": "stderr",
     "output_type": "stream",
     "text": [
      "/home/goose/PythonProjects/water-quality-pred/venv/lib/python3.12/site-packages/xgboost/training.py:183: UserWarning: [13:13:26] WARNING: /workspace/src/learner.cc:738: \n",
      "Parameters: { \"use_label_encoder\" } are not used.\n",
      "\n",
      "  bst.update(dtrain, iteration=i, fobj=obj)\n",
      "/home/goose/PythonProjects/water-quality-pred/venv/lib/python3.12/site-packages/xgboost/training.py:183: UserWarning: [13:13:32] WARNING: /workspace/src/learner.cc:738: \n",
      "Parameters: { \"use_label_encoder\" } are not used.\n",
      "\n",
      "  bst.update(dtrain, iteration=i, fobj=obj)\n",
      "/home/goose/PythonProjects/water-quality-pred/venv/lib/python3.12/site-packages/xgboost/training.py:183: UserWarning: [13:13:35] WARNING: /workspace/src/learner.cc:738: \n",
      "Parameters: { \"use_label_encoder\" } are not used.\n",
      "\n",
      "  bst.update(dtrain, iteration=i, fobj=obj)\n"
     ]
    },
    {
     "name": "stdout",
     "output_type": "stream",
     "text": [
      "| \u001b[39m6        \u001b[39m | \u001b[39m0.9966   \u001b[39m | \u001b[39m0.0      \u001b[39m | \u001b[39m0.3      \u001b[39m | \u001b[39m8.093    \u001b[39m | \u001b[39m4.745    \u001b[39m | \u001b[39m1.0      \u001b[39m |\n"
     ]
    },
    {
     "name": "stderr",
     "output_type": "stream",
     "text": [
      "/home/goose/PythonProjects/water-quality-pred/venv/lib/python3.12/site-packages/xgboost/training.py:183: UserWarning: [13:13:46] WARNING: /workspace/src/learner.cc:738: \n",
      "Parameters: { \"use_label_encoder\" } are not used.\n",
      "\n",
      "  bst.update(dtrain, iteration=i, fobj=obj)\n",
      "/home/goose/PythonProjects/water-quality-pred/venv/lib/python3.12/site-packages/xgboost/training.py:183: UserWarning: [13:13:49] WARNING: /workspace/src/learner.cc:738: \n",
      "Parameters: { \"use_label_encoder\" } are not used.\n",
      "\n",
      "  bst.update(dtrain, iteration=i, fobj=obj)\n",
      "/home/goose/PythonProjects/water-quality-pred/venv/lib/python3.12/site-packages/xgboost/training.py:183: UserWarning: [13:13:54] WARNING: /workspace/src/learner.cc:738: \n",
      "Parameters: { \"use_label_encoder\" } are not used.\n",
      "\n",
      "  bst.update(dtrain, iteration=i, fobj=obj)\n"
     ]
    },
    {
     "name": "stdout",
     "output_type": "stream",
     "text": [
      "| \u001b[35m7        \u001b[39m | \u001b[35m0.9976   \u001b[39m | \u001b[35m0.2632   \u001b[39m | \u001b[35m0.3      \u001b[39m | \u001b[35m6.164    \u001b[39m | \u001b[35m8.969    \u001b[39m | \u001b[35m1.0      \u001b[39m |\n"
     ]
    },
    {
     "name": "stderr",
     "output_type": "stream",
     "text": [
      "/home/goose/PythonProjects/water-quality-pred/venv/lib/python3.12/site-packages/xgboost/training.py:183: UserWarning: [13:13:58] WARNING: /workspace/src/learner.cc:738: \n",
      "Parameters: { \"use_label_encoder\" } are not used.\n",
      "\n",
      "  bst.update(dtrain, iteration=i, fobj=obj)\n",
      "/home/goose/PythonProjects/water-quality-pred/venv/lib/python3.12/site-packages/xgboost/training.py:183: UserWarning: [13:14:01] WARNING: /workspace/src/learner.cc:738: \n",
      "Parameters: { \"use_label_encoder\" } are not used.\n",
      "\n",
      "  bst.update(dtrain, iteration=i, fobj=obj)\n",
      "/home/goose/PythonProjects/water-quality-pred/venv/lib/python3.12/site-packages/xgboost/training.py:183: UserWarning: [13:14:05] WARNING: /workspace/src/learner.cc:738: \n",
      "Parameters: { \"use_label_encoder\" } are not used.\n",
      "\n",
      "  bst.update(dtrain, iteration=i, fobj=obj)\n"
     ]
    },
    {
     "name": "stdout",
     "output_type": "stream",
     "text": [
      "| \u001b[39m8        \u001b[39m | \u001b[39m0.9939   \u001b[39m | \u001b[39m2.65     \u001b[39m | \u001b[39m0.3      \u001b[39m | \u001b[39m10.0     \u001b[39m | \u001b[39m10.0     \u001b[39m | \u001b[39m1.0      \u001b[39m |\n"
     ]
    },
    {
     "name": "stderr",
     "output_type": "stream",
     "text": [
      "/home/goose/PythonProjects/water-quality-pred/venv/lib/python3.12/site-packages/xgboost/training.py:183: UserWarning: [13:14:11] WARNING: /workspace/src/learner.cc:738: \n",
      "Parameters: { \"use_label_encoder\" } are not used.\n",
      "\n",
      "  bst.update(dtrain, iteration=i, fobj=obj)\n",
      "/home/goose/PythonProjects/water-quality-pred/venv/lib/python3.12/site-packages/xgboost/training.py:183: UserWarning: [13:14:14] WARNING: /workspace/src/learner.cc:738: \n",
      "Parameters: { \"use_label_encoder\" } are not used.\n",
      "\n",
      "  bst.update(dtrain, iteration=i, fobj=obj)\n",
      "/home/goose/PythonProjects/water-quality-pred/venv/lib/python3.12/site-packages/xgboost/training.py:183: UserWarning: [13:14:16] WARNING: /workspace/src/learner.cc:738: \n",
      "Parameters: { \"use_label_encoder\" } are not used.\n",
      "\n",
      "  bst.update(dtrain, iteration=i, fobj=obj)\n"
     ]
    },
    {
     "name": "stdout",
     "output_type": "stream",
     "text": [
      "| \u001b[39m9        \u001b[39m | \u001b[39m0.9933   \u001b[39m | \u001b[39m2.642    \u001b[39m | \u001b[39m0.3      \u001b[39m | \u001b[39m3.0      \u001b[39m | \u001b[39m10.0     \u001b[39m | \u001b[39m1.0      \u001b[39m |\n"
     ]
    },
    {
     "name": "stderr",
     "output_type": "stream",
     "text": [
      "/home/goose/PythonProjects/water-quality-pred/venv/lib/python3.12/site-packages/xgboost/training.py:183: UserWarning: [13:14:23] WARNING: /workspace/src/learner.cc:738: \n",
      "Parameters: { \"use_label_encoder\" } are not used.\n",
      "\n",
      "  bst.update(dtrain, iteration=i, fobj=obj)\n",
      "/home/goose/PythonProjects/water-quality-pred/venv/lib/python3.12/site-packages/xgboost/training.py:183: UserWarning: [13:14:34] WARNING: /workspace/src/learner.cc:738: \n",
      "Parameters: { \"use_label_encoder\" } are not used.\n",
      "\n",
      "  bst.update(dtrain, iteration=i, fobj=obj)\n",
      "/home/goose/PythonProjects/water-quality-pred/venv/lib/python3.12/site-packages/xgboost/training.py:183: UserWarning: [13:14:36] WARNING: /workspace/src/learner.cc:738: \n",
      "Parameters: { \"use_label_encoder\" } are not used.\n",
      "\n",
      "  bst.update(dtrain, iteration=i, fobj=obj)\n"
     ]
    },
    {
     "name": "stdout",
     "output_type": "stream",
     "text": [
      "| \u001b[39m10       \u001b[39m | \u001b[39m0.996    \u001b[39m | \u001b[39m0.2076   \u001b[39m | \u001b[39m0.2854   \u001b[39m | \u001b[39m4.72     \u001b[39m | \u001b[39m5.601    \u001b[39m | \u001b[39m1.048    \u001b[39m |\n"
     ]
    },
    {
     "name": "stderr",
     "output_type": "stream",
     "text": [
      "/home/goose/PythonProjects/water-quality-pred/venv/lib/python3.12/site-packages/xgboost/training.py:183: UserWarning: [13:14:44] WARNING: /workspace/src/learner.cc:738: \n",
      "Parameters: { \"use_label_encoder\" } are not used.\n",
      "\n",
      "  bst.update(dtrain, iteration=i, fobj=obj)\n",
      "/home/goose/PythonProjects/water-quality-pred/venv/lib/python3.12/site-packages/xgboost/training.py:183: UserWarning: [13:14:46] WARNING: /workspace/src/learner.cc:738: \n",
      "Parameters: { \"use_label_encoder\" } are not used.\n",
      "\n",
      "  bst.update(dtrain, iteration=i, fobj=obj)\n",
      "/home/goose/PythonProjects/water-quality-pred/venv/lib/python3.12/site-packages/xgboost/training.py:183: UserWarning: [13:14:47] WARNING: /workspace/src/learner.cc:738: \n",
      "Parameters: { \"use_label_encoder\" } are not used.\n",
      "\n",
      "  bst.update(dtrain, iteration=i, fobj=obj)\n"
     ]
    },
    {
     "name": "stdout",
     "output_type": "stream",
     "text": [
      "| \u001b[39m11       \u001b[39m | \u001b[39m0.9936   \u001b[39m | \u001b[39m4.443    \u001b[39m | \u001b[39m0.3      \u001b[39m | \u001b[39m10.0     \u001b[39m | \u001b[39m2.973    \u001b[39m | \u001b[39m1.0      \u001b[39m |\n"
     ]
    },
    {
     "name": "stderr",
     "output_type": "stream",
     "text": [
      "/home/goose/PythonProjects/water-quality-pred/venv/lib/python3.12/site-packages/xgboost/training.py:183: UserWarning: [13:14:50] WARNING: /workspace/src/learner.cc:738: \n",
      "Parameters: { \"use_label_encoder\" } are not used.\n",
      "\n",
      "  bst.update(dtrain, iteration=i, fobj=obj)\n",
      "/home/goose/PythonProjects/water-quality-pred/venv/lib/python3.12/site-packages/xgboost/training.py:183: UserWarning: [13:14:56] WARNING: /workspace/src/learner.cc:738: \n",
      "Parameters: { \"use_label_encoder\" } are not used.\n",
      "\n",
      "  bst.update(dtrain, iteration=i, fobj=obj)\n",
      "/home/goose/PythonProjects/water-quality-pred/venv/lib/python3.12/site-packages/xgboost/training.py:183: UserWarning: [13:14:59] WARNING: /workspace/src/learner.cc:738: \n",
      "Parameters: { \"use_label_encoder\" } are not used.\n",
      "\n",
      "  bst.update(dtrain, iteration=i, fobj=obj)\n"
     ]
    },
    {
     "name": "stdout",
     "output_type": "stream",
     "text": [
      "| \u001b[39m12       \u001b[39m | \u001b[39m0.9974   \u001b[39m | \u001b[39m0.0      \u001b[39m | \u001b[39m0.3      \u001b[39m | \u001b[39m5.469    \u001b[39m | \u001b[39m0.0      \u001b[39m | \u001b[39m1.0      \u001b[39m |\n"
     ]
    },
    {
     "name": "stderr",
     "output_type": "stream",
     "text": [
      "/home/goose/PythonProjects/water-quality-pred/venv/lib/python3.12/site-packages/xgboost/training.py:183: UserWarning: [13:15:29] WARNING: /workspace/src/learner.cc:738: \n",
      "Parameters: { \"use_label_encoder\" } are not used.\n",
      "\n",
      "  bst.update(dtrain, iteration=i, fobj=obj)\n",
      "/home/goose/PythonProjects/water-quality-pred/venv/lib/python3.12/site-packages/xgboost/training.py:183: UserWarning: [13:15:46] WARNING: /workspace/src/learner.cc:738: \n",
      "Parameters: { \"use_label_encoder\" } are not used.\n",
      "\n",
      "  bst.update(dtrain, iteration=i, fobj=obj)\n",
      "/home/goose/PythonProjects/water-quality-pred/venv/lib/python3.12/site-packages/xgboost/training.py:183: UserWarning: [13:15:48] WARNING: /workspace/src/learner.cc:738: \n",
      "Parameters: { \"use_label_encoder\" } are not used.\n",
      "\n",
      "  bst.update(dtrain, iteration=i, fobj=obj)\n"
     ]
    },
    {
     "name": "stdout",
     "output_type": "stream",
     "text": [
      "| \u001b[39m13       \u001b[39m | \u001b[39m0.9932   \u001b[39m | \u001b[39m0.0      \u001b[39m | \u001b[39m0.3      \u001b[39m | \u001b[39m3.0      \u001b[39m | \u001b[39m0.0      \u001b[39m | \u001b[39m1.0      \u001b[39m |\n"
     ]
    },
    {
     "name": "stderr",
     "output_type": "stream",
     "text": [
      "/home/goose/PythonProjects/water-quality-pred/venv/lib/python3.12/site-packages/xgboost/training.py:183: UserWarning: [13:15:51] WARNING: /workspace/src/learner.cc:738: \n",
      "Parameters: { \"use_label_encoder\" } are not used.\n",
      "\n",
      "  bst.update(dtrain, iteration=i, fobj=obj)\n",
      "/home/goose/PythonProjects/water-quality-pred/venv/lib/python3.12/site-packages/xgboost/training.py:183: UserWarning: [13:15:57] WARNING: /workspace/src/learner.cc:738: \n",
      "Parameters: { \"use_label_encoder\" } are not used.\n",
      "\n",
      "  bst.update(dtrain, iteration=i, fobj=obj)\n",
      "/home/goose/PythonProjects/water-quality-pred/venv/lib/python3.12/site-packages/xgboost/training.py:183: UserWarning: [13:16:00] WARNING: /workspace/src/learner.cc:738: \n",
      "Parameters: { \"use_label_encoder\" } are not used.\n",
      "\n",
      "  bst.update(dtrain, iteration=i, fobj=obj)\n"
     ]
    },
    {
     "name": "stdout",
     "output_type": "stream",
     "text": [
      "| \u001b[39m14       \u001b[39m | \u001b[39m0.9672   \u001b[39m | \u001b[39m1.603    \u001b[39m | \u001b[39m0.01     \u001b[39m | \u001b[39m7.735    \u001b[39m | \u001b[39m0.0      \u001b[39m | \u001b[39m1.0      \u001b[39m |\n"
     ]
    },
    {
     "name": "stderr",
     "output_type": "stream",
     "text": [
      "/home/goose/PythonProjects/water-quality-pred/venv/lib/python3.12/site-packages/xgboost/training.py:183: UserWarning: [13:16:06] WARNING: /workspace/src/learner.cc:738: \n",
      "Parameters: { \"use_label_encoder\" } are not used.\n",
      "\n",
      "  bst.update(dtrain, iteration=i, fobj=obj)\n",
      "/home/goose/PythonProjects/water-quality-pred/venv/lib/python3.12/site-packages/xgboost/training.py:183: UserWarning: [13:16:10] WARNING: /workspace/src/learner.cc:738: \n",
      "Parameters: { \"use_label_encoder\" } are not used.\n",
      "\n",
      "  bst.update(dtrain, iteration=i, fobj=obj)\n",
      "/home/goose/PythonProjects/water-quality-pred/venv/lib/python3.12/site-packages/xgboost/training.py:183: UserWarning: [13:16:12] WARNING: /workspace/src/learner.cc:738: \n",
      "Parameters: { \"use_label_encoder\" } are not used.\n",
      "\n",
      "  bst.update(dtrain, iteration=i, fobj=obj)\n"
     ]
    },
    {
     "name": "stdout",
     "output_type": "stream",
     "text": [
      "| \u001b[35m15       \u001b[39m | \u001b[35m0.9977   \u001b[39m | \u001b[35m0.6679   \u001b[39m | \u001b[35m0.2238   \u001b[39m | \u001b[35m5.109    \u001b[39m | \u001b[35m1.895    \u001b[39m | \u001b[35m3.042    \u001b[39m |\n"
     ]
    },
    {
     "name": "stderr",
     "output_type": "stream",
     "text": [
      "/home/goose/PythonProjects/water-quality-pred/venv/lib/python3.12/site-packages/xgboost/training.py:183: UserWarning: [13:16:14] WARNING: /workspace/src/learner.cc:738: \n",
      "Parameters: { \"use_label_encoder\" } are not used.\n",
      "\n",
      "  bst.update(dtrain, iteration=i, fobj=obj)\n",
      "/home/goose/PythonProjects/water-quality-pred/venv/lib/python3.12/site-packages/xgboost/training.py:183: UserWarning: [13:16:16] WARNING: /workspace/src/learner.cc:738: \n",
      "Parameters: { \"use_label_encoder\" } are not used.\n",
      "\n",
      "  bst.update(dtrain, iteration=i, fobj=obj)\n",
      "/home/goose/PythonProjects/water-quality-pred/venv/lib/python3.12/site-packages/xgboost/training.py:183: UserWarning: [13:16:17] WARNING: /workspace/src/learner.cc:738: \n",
      "Parameters: { \"use_label_encoder\" } are not used.\n",
      "\n",
      "  bst.update(dtrain, iteration=i, fobj=obj)\n"
     ]
    },
    {
     "name": "stdout",
     "output_type": "stream",
     "text": [
      "| \u001b[39m16       \u001b[39m | \u001b[39m0.9914   \u001b[39m | \u001b[39m1.357    \u001b[39m | \u001b[39m0.199    \u001b[39m | \u001b[39m3.435    \u001b[39m | \u001b[39m7.471    \u001b[39m | \u001b[39m9.633    \u001b[39m |\n"
     ]
    },
    {
     "name": "stderr",
     "output_type": "stream",
     "text": [
      "/home/goose/PythonProjects/water-quality-pred/venv/lib/python3.12/site-packages/xgboost/training.py:183: UserWarning: [13:16:19] WARNING: /workspace/src/learner.cc:738: \n",
      "Parameters: { \"use_label_encoder\" } are not used.\n",
      "\n",
      "  bst.update(dtrain, iteration=i, fobj=obj)\n",
      "/home/goose/PythonProjects/water-quality-pred/venv/lib/python3.12/site-packages/xgboost/training.py:183: UserWarning: [13:16:21] WARNING: /workspace/src/learner.cc:738: \n",
      "Parameters: { \"use_label_encoder\" } are not used.\n",
      "\n",
      "  bst.update(dtrain, iteration=i, fobj=obj)\n",
      "/home/goose/PythonProjects/water-quality-pred/venv/lib/python3.12/site-packages/xgboost/training.py:183: UserWarning: [13:16:25] WARNING: /workspace/src/learner.cc:738: \n",
      "Parameters: { \"use_label_encoder\" } are not used.\n",
      "\n",
      "  bst.update(dtrain, iteration=i, fobj=obj)\n"
     ]
    },
    {
     "name": "stdout",
     "output_type": "stream",
     "text": [
      "| \u001b[39m17       \u001b[39m | \u001b[39m0.9954   \u001b[39m | \u001b[39m4.697    \u001b[39m | \u001b[39m0.1226   \u001b[39m | \u001b[39m9.953    \u001b[39m | \u001b[39m3.143    \u001b[39m | \u001b[39m1.033    \u001b[39m |\n"
     ]
    },
    {
     "name": "stderr",
     "output_type": "stream",
     "text": [
      "/home/goose/PythonProjects/water-quality-pred/venv/lib/python3.12/site-packages/xgboost/training.py:183: UserWarning: [13:16:29] WARNING: /workspace/src/learner.cc:738: \n",
      "Parameters: { \"use_label_encoder\" } are not used.\n",
      "\n",
      "  bst.update(dtrain, iteration=i, fobj=obj)\n",
      "/home/goose/PythonProjects/water-quality-pred/venv/lib/python3.12/site-packages/xgboost/training.py:183: UserWarning: [13:16:31] WARNING: /workspace/src/learner.cc:738: \n",
      "Parameters: { \"use_label_encoder\" } are not used.\n",
      "\n",
      "  bst.update(dtrain, iteration=i, fobj=obj)\n",
      "/home/goose/PythonProjects/water-quality-pred/venv/lib/python3.12/site-packages/xgboost/training.py:183: UserWarning: [13:16:32] WARNING: /workspace/src/learner.cc:738: \n",
      "Parameters: { \"use_label_encoder\" } are not used.\n",
      "\n",
      "  bst.update(dtrain, iteration=i, fobj=obj)\n"
     ]
    },
    {
     "name": "stdout",
     "output_type": "stream",
     "text": [
      "| \u001b[39m18       \u001b[39m | \u001b[39m0.9965   \u001b[39m | \u001b[39m0.0      \u001b[39m | \u001b[39m0.3      \u001b[39m | \u001b[39m4.73     \u001b[39m | \u001b[39m0.6744   \u001b[39m | \u001b[39m2.317    \u001b[39m |\n"
     ]
    },
    {
     "name": "stderr",
     "output_type": "stream",
     "text": [
      "/home/goose/PythonProjects/water-quality-pred/venv/lib/python3.12/site-packages/xgboost/training.py:183: UserWarning: [13:16:36] WARNING: /workspace/src/learner.cc:738: \n",
      "Parameters: { \"use_label_encoder\" } are not used.\n",
      "\n",
      "  bst.update(dtrain, iteration=i, fobj=obj)\n",
      "/home/goose/PythonProjects/water-quality-pred/venv/lib/python3.12/site-packages/xgboost/training.py:183: UserWarning: [13:16:41] WARNING: /workspace/src/learner.cc:738: \n",
      "Parameters: { \"use_label_encoder\" } are not used.\n",
      "\n",
      "  bst.update(dtrain, iteration=i, fobj=obj)\n",
      "/home/goose/PythonProjects/water-quality-pred/venv/lib/python3.12/site-packages/xgboost/training.py:183: UserWarning: [13:16:42] WARNING: /workspace/src/learner.cc:738: \n",
      "Parameters: { \"use_label_encoder\" } are not used.\n",
      "\n",
      "  bst.update(dtrain, iteration=i, fobj=obj)\n"
     ]
    },
    {
     "name": "stdout",
     "output_type": "stream",
     "text": [
      "| \u001b[39m19       \u001b[39m | \u001b[39m0.9976   \u001b[39m | \u001b[39m0.5485   \u001b[39m | \u001b[39m0.2872   \u001b[39m | \u001b[39m6.817    \u001b[39m | \u001b[39m6.852    \u001b[39m | \u001b[39m1.397    \u001b[39m |\n"
     ]
    },
    {
     "name": "stderr",
     "output_type": "stream",
     "text": [
      "/home/goose/PythonProjects/water-quality-pred/venv/lib/python3.12/site-packages/xgboost/training.py:183: UserWarning: [13:16:45] WARNING: /workspace/src/learner.cc:738: \n",
      "Parameters: { \"use_label_encoder\" } are not used.\n",
      "\n",
      "  bst.update(dtrain, iteration=i, fobj=obj)\n",
      "/home/goose/PythonProjects/water-quality-pred/venv/lib/python3.12/site-packages/xgboost/training.py:183: UserWarning: [13:16:47] WARNING: /workspace/src/learner.cc:738: \n",
      "Parameters: { \"use_label_encoder\" } are not used.\n",
      "\n",
      "  bst.update(dtrain, iteration=i, fobj=obj)\n",
      "/home/goose/PythonProjects/water-quality-pred/venv/lib/python3.12/site-packages/xgboost/training.py:183: UserWarning: [13:16:49] WARNING: /workspace/src/learner.cc:738: \n",
      "Parameters: { \"use_label_encoder\" } are not used.\n",
      "\n",
      "  bst.update(dtrain, iteration=i, fobj=obj)\n"
     ]
    },
    {
     "name": "stdout",
     "output_type": "stream",
     "text": [
      "| \u001b[39m20       \u001b[39m | \u001b[39m0.9952   \u001b[39m | \u001b[39m1.923    \u001b[39m | \u001b[39m0.2456   \u001b[39m | \u001b[39m7.163    \u001b[39m | \u001b[39m8.352    \u001b[39m | \u001b[39m1.912    \u001b[39m |\n",
      "=====================================================================================\n",
      "Best result: {'target': np.float64(0.9977401535112542), 'params': {'gamma': np.float64(0.6679367840339473), 'learning_rate': np.float64(0.22380549354175328), 'max_depth': np.float64(5.109427007147007), 'reg_lambda': np.float64(1.895342692941816), 'scale_pos_weight': np.float64(3.041727750456581)}}\n"
     ]
    }
   ],
   "source": [
    "optimizer = BayesianOptimization(\n",
    "    f=xgb_cv,\n",
    "    pbounds=param_grid,\n",
    "    random_state=42,\n",
    "    verbose=2\n",
    ")\n",
    "\n",
    "optimizer.maximize(\n",
    "    init_points=5,\n",
    "    n_iter=15\n",
    ")\n",
    "\n",
    "# Print best result\n",
    "print(\"Best result:\", optimizer.max)"
   ]
  },
  {
   "cell_type": "code",
   "execution_count": 72,
   "id": "0d548fd2-c488-4d84-be82-5845a53a3dee",
   "metadata": {},
   "outputs": [],
   "source": [
    "start_time = time.time()\n",
    "optimized_model = xgb.XGBClassifier(\n",
    "    seed=42,\n",
    "    objective='binary:logistic',\n",
    "    gamma=0.6679367840339473,\n",
    "    learning_rate=0.22380549354175328,\n",
    "    max_depth=5,\n",
    "    reg_lambda=1.895342692941816,\n",
    "    scale_pos_weight=3.041727750456581,\n",
    "    subsample=0.9,\n",
    "    colsample_bytree=0.5,\n",
    "    early_stopping_rounds=10,\n",
    "    eval_metric='auc',\n",
    ")"
   ]
  },
  {
   "cell_type": "code",
   "execution_count": 73,
   "id": "5edf9e24-ac00-47a2-b3b0-9e3086810b25",
   "metadata": {},
   "outputs": [
    {
     "name": "stdout",
     "output_type": "stream",
     "text": [
      "[0]\tvalidation_0-auc:0.74432\n",
      "[1]\tvalidation_0-auc:0.59258\n",
      "[2]\tvalidation_0-auc:0.59371\n",
      "[3]\tvalidation_0-auc:0.67753\n",
      "[4]\tvalidation_0-auc:0.64662\n",
      "[5]\tvalidation_0-auc:0.69390\n",
      "[6]\tvalidation_0-auc:0.70295\n",
      "[7]\tvalidation_0-auc:0.73188\n",
      "[8]\tvalidation_0-auc:0.72670\n",
      "[9]\tvalidation_0-auc:0.72654\n",
      "[10]\tvalidation_0-auc:0.72651\n",
      "Training time: 5.9377 seconds\n"
     ]
    }
   ],
   "source": [
    "optimized_model.fit(X_train, y_train, verbose=True, eval_set=[(X_test, y_test)])\n",
    "\n",
    "end_time = time.time()\n",
    "\n",
    "# Calculate training time\n",
    "training_time = end_time - start_time\n",
    "\n",
    "# Print the training time\n",
    "print(f\"Training time: {training_time:.4f} seconds\")"
   ]
  },
  {
   "cell_type": "code",
   "execution_count": 66,
   "id": "fcb011fa",
   "metadata": {},
   "outputs": [],
   "source": [
    "y_pred = optimized_model.predict(X_test)"
   ]
  },
  {
   "cell_type": "code",
   "execution_count": 67,
   "id": "1b74bea5",
   "metadata": {},
   "outputs": [
    {
     "data": {
      "text/plain": [
       "<sklearn.metrics._plot.confusion_matrix.ConfusionMatrixDisplay at 0x7f746b5c18b0>"
      ]
     },
     "execution_count": 67,
     "metadata": {},
     "output_type": "execute_result"
    },
    {
     "data": {
      "image/png": "[encoded data removed]",
      "text/plain": [
       "<Figure size 640x480 with 2 Axes>"
      ]
     },
     "metadata": {},
     "output_type": "display_data"
    }
   ],
   "source": [
    "cm = confusion_matrix(y_test, y_pred)\n",
    "disp = ConfusionMatrixDisplay(confusion_matrix=cm)\n",
    "disp.plot()"
   ]
  },
  {
   "cell_type": "code",
   "execution_count": null,
   "id": "9dc2aeb6",
   "metadata": {},
   "outputs": [
    {
     "name": "stdout",
     "output_type": "stream",
     "text": [
      "Accuracy:  0.9779602481979852\n",
      "Precision:  0.35749713849675696\n",
      "Recall:  0.40231859167024475\n",
      "F1 Score:  0.3785858585858586\n",
      "ROC-AUC:  0.7114238144964975\n",
      "PR-AUC (Average Precision):  0.2756817015227641\n",
      "Confusion Matrix:\n",
      " [[135553   1684]\n",
      " [  1392    937]]\n",
      "Log Loss:  0.10097984959400425\n",
      "Cohen's Kappa:  0.36740677480301787\n"
     ]
    }
   ],
   "source": [
    "y_pred_proba = optimized_model.predict_proba(X_test)[:, 1] # Probabilities for positive class only\n",
    "\n",
    "print(\"Accuracy: \", accuracy_score(y_test, y_pred))\n",
    "print(\"Precision: \", precision_score(y_test, y_pred))\n",
    "print(\"Recall: \", recall_score(y_test, y_pred))\n",
    "print(\"F1 Score: \", f1_score(y_test, y_pred))\n",
    "print(\"ROC-AUC: \", roc_auc_score(y_test, y_pred_proba))\n",
    "print(\"PR-AUC (Average Precision): \", average_precision_score(y_test, y_pred_proba))\n",
    "print(\"Confusion Matrix:\\n\", confusion_matrix(y_test, y_pred, labels=[0,1]))\n",
    "print(\"Log Loss: \", log_loss(y_test, y_pred_proba))\n",
    "print(\"Cohen's Kappa: \", cohen_kappa_score(y_test, y_pred))"
   ]
  },
  {
   "cell_type": "code",
   "execution_count": null,
   "id": "ab9c7c2b",
   "metadata": {},
   "outputs": [],
   "source": []
  }
 ],
 "metadata": {
  "kernelspec": {
   "display_name": "Python 3 (ipykernel)",
   "language": "python",
   "name": "python3"
  },
  "language_info": {
   "codemirror_mode": {
    "name": "ipython",
    "version": 3
   },
   "file_extension": ".py",
   "mimetype": "text/x-python",
   "name": "python",
   "nbconvert_exporter": "python",
   "pygments_lexer": "ipython3",
   "version": "3.12.10"
  }
 },
 "nbformat": 4,
 "nbformat_minor": 5
}
