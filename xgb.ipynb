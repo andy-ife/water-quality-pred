{
 "cells": [
  {
   "cell_type": "markdown",
   "id": "81eee89b-41de-43c0-8ecf-0fc49529445c",
   "metadata": {},
   "source": [
    "## Import packages"
   ]
  },
  {
   "cell_type": "code",
   "execution_count": 107,
   "id": "f28ad1ef-63ca-4555-b0ca-f66abafe1f63",
   "metadata": {},
   "outputs": [],
   "source": [
    "import pandas as pd\n",
    "import numpy as np\n",
    "import time\n",
    "import matplotlib.pyplot as plt\n",
    "import xgboost as xgb\n",
    "from sklearn.metrics import (\n",
    "    accuracy_score, precision_score, recall_score, f1_score, roc_auc_score, \n",
    "    average_precision_score, confusion_matrix, log_loss, cohen_kappa_score,\n",
    "    ConfusionMatrixDisplay\n",
    ")\n",
    "from sklearn.model_selection import cross_val_score\n",
    "from bayes_opt import BayesianOptimization\n",
    "from sklearn.preprocessing import StandardScaler"
   ]
  },
  {
   "cell_type": "markdown",
   "id": "e225690e-e00e-4ad8-b646-42f03bc0ec1b",
   "metadata": {},
   "source": [
    "## Load data, making sure to drop the serial number column, which is not useful for classification"
   ]
  },
  {
   "cell_type": "code",
   "execution_count": 108,
   "id": "3684e98d-1841-4b82-9d86-25481ec45c64",
   "metadata": {},
   "outputs": [],
   "source": [
    "train_df = pd.read_csv('datasets/train.csv', index_col=0)\n",
    "test_df = pd.read_csv('datasets/test.csv', index_col=0)"
   ]
  },
  {
   "cell_type": "markdown",
   "id": "ced85b20-85fe-432c-b262-4e992e262a73",
   "metadata": {},
   "source": [
    "## Clean data"
   ]
  },
  {
   "cell_type": "code",
   "execution_count": 109,
   "id": "0bc78ea6-c8aa-4434-a3fb-6077919989b3",
   "metadata": {},
   "outputs": [
    {
     "data": {
      "text/html": [
       "<div>\n",
       "<style scoped>\n",
       "    .dataframe tbody tr th:only-of-type {\n",
       "        vertical-align: middle;\n",
       "    }\n",
       "\n",
       "    .dataframe tbody tr th {\n",
       "        vertical-align: top;\n",
       "    }\n",
       "\n",
       "    .dataframe thead th {\n",
       "        text-align: right;\n",
       "    }\n",
       "</style>\n",
       "<table border=\"1\" class=\"dataframe\">\n",
       "  <thead>\n",
       "    <tr style=\"text-align: right;\">\n",
       "      <th></th>\n",
       "      <th>Tp</th>\n",
       "      <th>Cl</th>\n",
       "      <th>pH</th>\n",
       "      <th>Redox</th>\n",
       "      <th>Leit</th>\n",
       "      <th>Trueb</th>\n",
       "      <th>Cl_2</th>\n",
       "      <th>fm</th>\n",
       "      <th>Fm_2</th>\n",
       "      <th>EVENT</th>\n",
       "    </tr>\n",
       "  </thead>\n",
       "  <tbody>\n",
       "    <tr>\n",
       "      <th>0</th>\n",
       "      <td>6.5</td>\n",
       "      <td>0.17</td>\n",
       "      <td>8.36</td>\n",
       "      <td>749.0</td>\n",
       "      <td>211.0</td>\n",
       "      <td>0.011</td>\n",
       "      <td>0.118</td>\n",
       "      <td>1677.0</td>\n",
       "      <td>695.0</td>\n",
       "      <td>0</td>\n",
       "    </tr>\n",
       "    <tr>\n",
       "      <th>1</th>\n",
       "      <td>6.5</td>\n",
       "      <td>0.17</td>\n",
       "      <td>8.36</td>\n",
       "      <td>749.0</td>\n",
       "      <td>211.0</td>\n",
       "      <td>0.011</td>\n",
       "      <td>0.118</td>\n",
       "      <td>1561.0</td>\n",
       "      <td>696.0</td>\n",
       "      <td>0</td>\n",
       "    </tr>\n",
       "    <tr>\n",
       "      <th>2</th>\n",
       "      <td>6.5</td>\n",
       "      <td>0.17</td>\n",
       "      <td>8.35</td>\n",
       "      <td>749.0</td>\n",
       "      <td>211.0</td>\n",
       "      <td>0.011</td>\n",
       "      <td>0.117</td>\n",
       "      <td>1581.0</td>\n",
       "      <td>696.0</td>\n",
       "      <td>0</td>\n",
       "    </tr>\n",
       "    <tr>\n",
       "      <th>3</th>\n",
       "      <td>6.5</td>\n",
       "      <td>0.17</td>\n",
       "      <td>8.35</td>\n",
       "      <td>749.0</td>\n",
       "      <td>211.0</td>\n",
       "      <td>0.011</td>\n",
       "      <td>0.118</td>\n",
       "      <td>1579.0</td>\n",
       "      <td>693.0</td>\n",
       "      <td>0</td>\n",
       "    </tr>\n",
       "    <tr>\n",
       "      <th>4</th>\n",
       "      <td>6.5</td>\n",
       "      <td>0.17</td>\n",
       "      <td>8.35</td>\n",
       "      <td>749.0</td>\n",
       "      <td>211.0</td>\n",
       "      <td>0.011</td>\n",
       "      <td>0.118</td>\n",
       "      <td>1567.0</td>\n",
       "      <td>689.0</td>\n",
       "      <td>0</td>\n",
       "    </tr>\n",
       "  </tbody>\n",
       "</table>\n",
       "</div>"
      ],
      "text/plain": [
       "    Tp    Cl    pH  Redox   Leit  Trueb   Cl_2      fm   Fm_2  EVENT\n",
       "0  6.5  0.17  8.36  749.0  211.0  0.011  0.118  1677.0  695.0      0\n",
       "1  6.5  0.17  8.36  749.0  211.0  0.011  0.118  1561.0  696.0      0\n",
       "2  6.5  0.17  8.35  749.0  211.0  0.011  0.117  1581.0  696.0      0\n",
       "3  6.5  0.17  8.35  749.0  211.0  0.011  0.118  1579.0  693.0      0\n",
       "4  6.5  0.17  8.35  749.0  211.0  0.011  0.118  1567.0  689.0      0"
      ]
     },
     "execution_count": 109,
     "metadata": {},
     "output_type": "execute_result"
    }
   ],
   "source": [
    "train_df.head()"
   ]
  },
  {
   "cell_type": "markdown",
   "id": "db40b31c-5f24-411e-9eca-76d5858fdd32",
   "metadata": {},
   "source": [
    "### Columns that have only one unique value aren't useful to classification, and should be dropped"
   ]
  },
  {
   "cell_type": "code",
   "execution_count": 110,
   "id": "b3af41ef-8b48-4426-9ee3-0153bc0c615a",
   "metadata": {},
   "outputs": [
    {
     "data": {
      "text/plain": [
       "array([6.5       , 6.6       , 6.7       , ..., 9.00663063, 8.41352575,\n",
       "       8.22963054], shape=(31635,))"
      ]
     },
     "execution_count": 110,
     "metadata": {},
     "output_type": "execute_result"
    }
   ],
   "source": [
    "train_df['Tp'].unique()"
   ]
  },
  {
   "cell_type": "code",
   "execution_count": 111,
   "id": "31b258ae-08d6-4b1d-9541-b98275540a89",
   "metadata": {},
   "outputs": [
    {
     "data": {
      "text/html": [
       "<div>\n",
       "<style scoped>\n",
       "    .dataframe tbody tr th:only-of-type {\n",
       "        vertical-align: middle;\n",
       "    }\n",
       "\n",
       "    .dataframe tbody tr th {\n",
       "        vertical-align: top;\n",
       "    }\n",
       "\n",
       "    .dataframe thead th {\n",
       "        text-align: right;\n",
       "    }\n",
       "</style>\n",
       "<table border=\"1\" class=\"dataframe\">\n",
       "  <thead>\n",
       "    <tr style=\"text-align: right;\">\n",
       "      <th></th>\n",
       "      <th>Tp</th>\n",
       "      <th>Cl</th>\n",
       "      <th>pH</th>\n",
       "      <th>Redox</th>\n",
       "      <th>Leit</th>\n",
       "      <th>Trueb</th>\n",
       "      <th>Cl_2</th>\n",
       "      <th>fm</th>\n",
       "      <th>Fm_2</th>\n",
       "      <th>EVENT</th>\n",
       "    </tr>\n",
       "  </thead>\n",
       "  <tbody>\n",
       "    <tr>\n",
       "      <th>0</th>\n",
       "      <td>10.1</td>\n",
       "      <td>0.17</td>\n",
       "      <td>8.41</td>\n",
       "      <td>762.0</td>\n",
       "      <td>190.0</td>\n",
       "      <td>0.022</td>\n",
       "      <td>0.106</td>\n",
       "      <td>1818.0</td>\n",
       "      <td>920.0</td>\n",
       "      <td>0</td>\n",
       "    </tr>\n",
       "    <tr>\n",
       "      <th>1</th>\n",
       "      <td>10.1</td>\n",
       "      <td>0.18</td>\n",
       "      <td>8.41</td>\n",
       "      <td>762.0</td>\n",
       "      <td>190.0</td>\n",
       "      <td>0.022</td>\n",
       "      <td>0.106</td>\n",
       "      <td>1805.0</td>\n",
       "      <td>927.0</td>\n",
       "      <td>0</td>\n",
       "    </tr>\n",
       "    <tr>\n",
       "      <th>2</th>\n",
       "      <td>10.1</td>\n",
       "      <td>0.19</td>\n",
       "      <td>8.41</td>\n",
       "      <td>762.0</td>\n",
       "      <td>189.0</td>\n",
       "      <td>0.022</td>\n",
       "      <td>0.108</td>\n",
       "      <td>1787.0</td>\n",
       "      <td>927.0</td>\n",
       "      <td>0</td>\n",
       "    </tr>\n",
       "    <tr>\n",
       "      <th>3</th>\n",
       "      <td>10.1</td>\n",
       "      <td>0.18</td>\n",
       "      <td>8.41</td>\n",
       "      <td>762.0</td>\n",
       "      <td>190.0</td>\n",
       "      <td>0.022</td>\n",
       "      <td>0.108</td>\n",
       "      <td>1790.0</td>\n",
       "      <td>936.0</td>\n",
       "      <td>0</td>\n",
       "    </tr>\n",
       "    <tr>\n",
       "      <th>4</th>\n",
       "      <td>10.1</td>\n",
       "      <td>0.18</td>\n",
       "      <td>8.41</td>\n",
       "      <td>762.0</td>\n",
       "      <td>189.0</td>\n",
       "      <td>0.022</td>\n",
       "      <td>0.108</td>\n",
       "      <td>1827.0</td>\n",
       "      <td>924.0</td>\n",
       "      <td>0</td>\n",
       "    </tr>\n",
       "  </tbody>\n",
       "</table>\n",
       "</div>"
      ],
      "text/plain": [
       "     Tp    Cl    pH  Redox   Leit  Trueb   Cl_2      fm   Fm_2  EVENT\n",
       "0  10.1  0.17  8.41  762.0  190.0  0.022  0.106  1818.0  920.0      0\n",
       "1  10.1  0.18  8.41  762.0  190.0  0.022  0.106  1805.0  927.0      0\n",
       "2  10.1  0.19  8.41  762.0  189.0  0.022  0.108  1787.0  927.0      0\n",
       "3  10.1  0.18  8.41  762.0  190.0  0.022  0.108  1790.0  936.0      0\n",
       "4  10.1  0.18  8.41  762.0  189.0  0.022  0.108  1827.0  924.0      0"
      ]
     },
     "execution_count": 111,
     "metadata": {},
     "output_type": "execute_result"
    }
   ],
   "source": [
    "test_df.head()"
   ]
  },
  {
   "cell_type": "code",
   "execution_count": 112,
   "id": "6083873b-552b-4d64-a90f-8b97c87cf3ec",
   "metadata": {},
   "outputs": [
    {
     "data": {
      "text/plain": [
       "array([0, 1])"
      ]
     },
     "execution_count": 112,
     "metadata": {},
     "output_type": "execute_result"
    }
   ],
   "source": [
    "test_df['EVENT'].unique()"
   ]
  },
  {
   "cell_type": "markdown",
   "id": "41669b5c-4f8f-4e9d-afef-df3ade0c6af2",
   "metadata": {},
   "source": [
    "## Check datatypes"
   ]
  },
  {
   "cell_type": "code",
   "execution_count": 113,
   "id": "5fb7c1c9-d14d-44a3-8446-106ba0cf0765",
   "metadata": {},
   "outputs": [
    {
     "data": {
      "text/plain": [
       "Tp       float64\n",
       "Cl       float64\n",
       "pH       float64\n",
       "Redox    float64\n",
       "Leit     float64\n",
       "Trueb    float64\n",
       "Cl_2     float64\n",
       "fm       float64\n",
       "Fm_2     float64\n",
       "EVENT      int64\n",
       "dtype: object"
      ]
     },
     "execution_count": 113,
     "metadata": {},
     "output_type": "execute_result"
    }
   ],
   "source": [
    "train_df.dtypes"
   ]
  },
  {
   "cell_type": "code",
   "execution_count": 114,
   "id": "49a6eea4-9ac9-4366-89e5-b063d20036d2",
   "metadata": {},
   "outputs": [
    {
     "data": {
      "text/plain": [
       "Tp       float64\n",
       "Cl       float64\n",
       "pH       float64\n",
       "Redox    float64\n",
       "Leit     float64\n",
       "Trueb    float64\n",
       "Cl_2     float64\n",
       "fm       float64\n",
       "Fm_2     float64\n",
       "EVENT      int64\n",
       "dtype: object"
      ]
     },
     "execution_count": 114,
     "metadata": {},
     "output_type": "execute_result"
    }
   ],
   "source": [
    "test_df.dtypes"
   ]
  },
  {
   "cell_type": "markdown",
   "id": "9b31ba91-9b1b-49eb-a3ce-355c0a845116",
   "metadata": {},
   "source": [
    "## Format data for XGBoost"
   ]
  },
  {
   "cell_type": "markdown",
   "id": "8a782fed-e218-401f-85fe-cfe885416f3f",
   "metadata": {},
   "source": [
    "### Split test and training data into X_train, y_train, X_test, y_test"
   ]
  },
  {
   "cell_type": "code",
   "execution_count": 115,
   "id": "23672951-fa44-43e5-84ea-9e68aa6320fb",
   "metadata": {},
   "outputs": [],
   "source": [
    "X_train = train_df.drop(columns=['EVENT']) # Features\n",
    "y_train = train_df['EVENT'] # Labels\n",
    "X_test = test_df.drop(columns=['EVENT'])\n",
    "y_test = test_df['EVENT']"
   ]
  },
  {
   "cell_type": "markdown",
   "id": "51323c4b",
   "metadata": {},
   "source": [
    "### Standardize data"
   ]
  },
  {
   "cell_type": "code",
   "execution_count": 116,
   "id": "ad4e9ae6",
   "metadata": {},
   "outputs": [],
   "source": [
    "scaler = StandardScaler()\n",
    "X_train = pd.DataFrame(scaler.fit_transform(X_train), columns=X_train.columns, index=X_train.index)\n",
    "X_test = pd.DataFrame(scaler.transform(X_test), columns=X_test.columns, index=X_test.index)"
   ]
  },
  {
   "cell_type": "code",
   "execution_count": 117,
   "id": "75e8ed1f-caec-43cc-84e9-aee763bd33b4",
   "metadata": {},
   "outputs": [
    {
     "data": {
      "text/html": [
       "<div>\n",
       "<style scoped>\n",
       "    .dataframe tbody tr th:only-of-type {\n",
       "        vertical-align: middle;\n",
       "    }\n",
       "\n",
       "    .dataframe tbody tr th {\n",
       "        vertical-align: top;\n",
       "    }\n",
       "\n",
       "    .dataframe thead th {\n",
       "        text-align: right;\n",
       "    }\n",
       "</style>\n",
       "<table border=\"1\" class=\"dataframe\">\n",
       "  <thead>\n",
       "    <tr style=\"text-align: right;\">\n",
       "      <th></th>\n",
       "      <th>Tp</th>\n",
       "      <th>Cl</th>\n",
       "      <th>pH</th>\n",
       "      <th>Redox</th>\n",
       "      <th>Leit</th>\n",
       "      <th>Trueb</th>\n",
       "      <th>Cl_2</th>\n",
       "      <th>fm</th>\n",
       "      <th>Fm_2</th>\n",
       "    </tr>\n",
       "  </thead>\n",
       "  <tbody>\n",
       "    <tr>\n",
       "      <th>0</th>\n",
       "      <td>-1.771856</td>\n",
       "      <td>0.171527</td>\n",
       "      <td>0.142346</td>\n",
       "      <td>0.262602</td>\n",
       "      <td>0.001509</td>\n",
       "      <td>-1.168076</td>\n",
       "      <td>0.718563</td>\n",
       "      <td>0.656364</td>\n",
       "      <td>-0.785325</td>\n",
       "    </tr>\n",
       "    <tr>\n",
       "      <th>1</th>\n",
       "      <td>-1.771856</td>\n",
       "      <td>0.171527</td>\n",
       "      <td>0.142346</td>\n",
       "      <td>0.262602</td>\n",
       "      <td>0.001509</td>\n",
       "      <td>-1.168076</td>\n",
       "      <td>0.718563</td>\n",
       "      <td>0.263442</td>\n",
       "      <td>-0.781309</td>\n",
       "    </tr>\n",
       "    <tr>\n",
       "      <th>2</th>\n",
       "      <td>-1.771856</td>\n",
       "      <td>0.171527</td>\n",
       "      <td>0.123621</td>\n",
       "      <td>0.262602</td>\n",
       "      <td>0.001509</td>\n",
       "      <td>-1.168076</td>\n",
       "      <td>0.678748</td>\n",
       "      <td>0.331187</td>\n",
       "      <td>-0.781309</td>\n",
       "    </tr>\n",
       "    <tr>\n",
       "      <th>3</th>\n",
       "      <td>-1.771856</td>\n",
       "      <td>0.171527</td>\n",
       "      <td>0.123621</td>\n",
       "      <td>0.262602</td>\n",
       "      <td>0.001509</td>\n",
       "      <td>-1.168076</td>\n",
       "      <td>0.718563</td>\n",
       "      <td>0.324413</td>\n",
       "      <td>-0.793356</td>\n",
       "    </tr>\n",
       "    <tr>\n",
       "      <th>4</th>\n",
       "      <td>-1.771856</td>\n",
       "      <td>0.171527</td>\n",
       "      <td>0.123621</td>\n",
       "      <td>0.262602</td>\n",
       "      <td>0.001509</td>\n",
       "      <td>-1.168076</td>\n",
       "      <td>0.718563</td>\n",
       "      <td>0.283766</td>\n",
       "      <td>-0.809419</td>\n",
       "    </tr>\n",
       "  </tbody>\n",
       "</table>\n",
       "</div>"
      ],
      "text/plain": [
       "         Tp        Cl        pH     Redox      Leit     Trueb      Cl_2  \\\n",
       "0 -1.771856  0.171527  0.142346  0.262602  0.001509 -1.168076  0.718563   \n",
       "1 -1.771856  0.171527  0.142346  0.262602  0.001509 -1.168076  0.718563   \n",
       "2 -1.771856  0.171527  0.123621  0.262602  0.001509 -1.168076  0.678748   \n",
       "3 -1.771856  0.171527  0.123621  0.262602  0.001509 -1.168076  0.718563   \n",
       "4 -1.771856  0.171527  0.123621  0.262602  0.001509 -1.168076  0.718563   \n",
       "\n",
       "         fm      Fm_2  \n",
       "0  0.656364 -0.785325  \n",
       "1  0.263442 -0.781309  \n",
       "2  0.331187 -0.781309  \n",
       "3  0.324413 -0.793356  \n",
       "4  0.283766 -0.809419  "
      ]
     },
     "execution_count": 117,
     "metadata": {},
     "output_type": "execute_result"
    }
   ],
   "source": [
    "X_train.head()"
   ]
  },
  {
   "cell_type": "code",
   "execution_count": 118,
   "id": "742a6e8d-18e6-4606-84b6-cf3e36855142",
   "metadata": {},
   "outputs": [
    {
     "data": {
      "text/plain": [
       "0    0\n",
       "1    0\n",
       "2    0\n",
       "3    0\n",
       "4    0\n",
       "Name: EVENT, dtype: int64"
      ]
     },
     "execution_count": 118,
     "metadata": {},
     "output_type": "execute_result"
    }
   ],
   "source": [
    "y_train.head()"
   ]
  },
  {
   "cell_type": "code",
   "execution_count": 119,
   "id": "1900aef6-1b68-4cc6-b7cb-969502883169",
   "metadata": {},
   "outputs": [
    {
     "data": {
      "text/html": [
       "<div>\n",
       "<style scoped>\n",
       "    .dataframe tbody tr th:only-of-type {\n",
       "        vertical-align: middle;\n",
       "    }\n",
       "\n",
       "    .dataframe tbody tr th {\n",
       "        vertical-align: top;\n",
       "    }\n",
       "\n",
       "    .dataframe thead th {\n",
       "        text-align: right;\n",
       "    }\n",
       "</style>\n",
       "<table border=\"1\" class=\"dataframe\">\n",
       "  <thead>\n",
       "    <tr style=\"text-align: right;\">\n",
       "      <th></th>\n",
       "      <th>Tp</th>\n",
       "      <th>Cl</th>\n",
       "      <th>pH</th>\n",
       "      <th>Redox</th>\n",
       "      <th>Leit</th>\n",
       "      <th>Trueb</th>\n",
       "      <th>Cl_2</th>\n",
       "      <th>fm</th>\n",
       "      <th>Fm_2</th>\n",
       "    </tr>\n",
       "  </thead>\n",
       "  <tbody>\n",
       "    <tr>\n",
       "      <th>0</th>\n",
       "      <td>1.521878</td>\n",
       "      <td>0.171527</td>\n",
       "      <td>0.235967</td>\n",
       "      <td>0.436665</td>\n",
       "      <td>-0.625861</td>\n",
       "      <td>0.133262</td>\n",
       "      <td>0.240790</td>\n",
       "      <td>1.133966</td>\n",
       "      <td>0.118186</td>\n",
       "    </tr>\n",
       "    <tr>\n",
       "      <th>1</th>\n",
       "      <td>1.521878</td>\n",
       "      <td>0.387174</td>\n",
       "      <td>0.235967</td>\n",
       "      <td>0.436665</td>\n",
       "      <td>-0.625861</td>\n",
       "      <td>0.133262</td>\n",
       "      <td>0.240790</td>\n",
       "      <td>1.089932</td>\n",
       "      <td>0.146296</td>\n",
       "    </tr>\n",
       "    <tr>\n",
       "      <th>2</th>\n",
       "      <td>1.521878</td>\n",
       "      <td>0.602822</td>\n",
       "      <td>0.235967</td>\n",
       "      <td>0.436665</td>\n",
       "      <td>-0.655736</td>\n",
       "      <td>0.133262</td>\n",
       "      <td>0.320419</td>\n",
       "      <td>1.028961</td>\n",
       "      <td>0.146296</td>\n",
       "    </tr>\n",
       "    <tr>\n",
       "      <th>3</th>\n",
       "      <td>1.521878</td>\n",
       "      <td>0.387174</td>\n",
       "      <td>0.235967</td>\n",
       "      <td>0.436665</td>\n",
       "      <td>-0.625861</td>\n",
       "      <td>0.133262</td>\n",
       "      <td>0.320419</td>\n",
       "      <td>1.039123</td>\n",
       "      <td>0.182436</td>\n",
       "    </tr>\n",
       "    <tr>\n",
       "      <th>4</th>\n",
       "      <td>1.521878</td>\n",
       "      <td>0.387174</td>\n",
       "      <td>0.235967</td>\n",
       "      <td>0.436665</td>\n",
       "      <td>-0.655736</td>\n",
       "      <td>0.133262</td>\n",
       "      <td>0.320419</td>\n",
       "      <td>1.164451</td>\n",
       "      <td>0.134249</td>\n",
       "    </tr>\n",
       "  </tbody>\n",
       "</table>\n",
       "</div>"
      ],
      "text/plain": [
       "         Tp        Cl        pH     Redox      Leit     Trueb      Cl_2  \\\n",
       "0  1.521878  0.171527  0.235967  0.436665 -0.625861  0.133262  0.240790   \n",
       "1  1.521878  0.387174  0.235967  0.436665 -0.625861  0.133262  0.240790   \n",
       "2  1.521878  0.602822  0.235967  0.436665 -0.655736  0.133262  0.320419   \n",
       "3  1.521878  0.387174  0.235967  0.436665 -0.625861  0.133262  0.320419   \n",
       "4  1.521878  0.387174  0.235967  0.436665 -0.655736  0.133262  0.320419   \n",
       "\n",
       "         fm      Fm_2  \n",
       "0  1.133966  0.118186  \n",
       "1  1.089932  0.146296  \n",
       "2  1.028961  0.146296  \n",
       "3  1.039123  0.182436  \n",
       "4  1.164451  0.134249  "
      ]
     },
     "execution_count": 119,
     "metadata": {},
     "output_type": "execute_result"
    }
   ],
   "source": [
    "X_test.head()"
   ]
  },
  {
   "cell_type": "code",
   "execution_count": 120,
   "id": "726080cf-5e97-4715-81b6-2cc13fbe4e2d",
   "metadata": {},
   "outputs": [
    {
     "data": {
      "text/plain": [
       "0    0\n",
       "1    0\n",
       "2    0\n",
       "3    0\n",
       "4    0\n",
       "Name: EVENT, dtype: int64"
      ]
     },
     "execution_count": 120,
     "metadata": {},
     "output_type": "execute_result"
    }
   ],
   "source": [
    "y_test.head()"
   ]
  },
  {
   "cell_type": "markdown",
   "id": "51bc4bff-1d56-4eb7-b378-be15692d7b31",
   "metadata": {},
   "source": [
    "## Build initial model with early stopping and default hyper params"
   ]
  },
  {
   "cell_type": "code",
   "execution_count": 121,
   "id": "e4785873-5d2a-4223-97d3-01f0cff74562",
   "metadata": {},
   "outputs": [],
   "source": [
    "start_time = time.time()\n",
    "\n",
    "model = xgb.XGBClassifier(objective=\"binary:logistic\", missing=np.nan, seed=42, early_stopping_rounds=10, eval_metric='auc', verbosity=1)"
   ]
  },
  {
   "cell_type": "code",
   "execution_count": 122,
   "id": "766f61e0-43c0-4d2b-82ed-005231aebfef",
   "metadata": {},
   "outputs": [
    {
     "name": "stdout",
     "output_type": "stream",
     "text": [
      "[0]\tvalidation_0-auc:0.50619\n",
      "[1]\tvalidation_0-auc:0.52072\n",
      "[2]\tvalidation_0-auc:0.64215\n",
      "[3]\tvalidation_0-auc:0.63995\n",
      "[4]\tvalidation_0-auc:0.65742\n",
      "[5]\tvalidation_0-auc:0.66540\n",
      "[6]\tvalidation_0-auc:0.63621\n",
      "[7]\tvalidation_0-auc:0.63801\n",
      "[8]\tvalidation_0-auc:0.61882\n",
      "[9]\tvalidation_0-auc:0.57368\n",
      "[10]\tvalidation_0-auc:0.57331\n",
      "[11]\tvalidation_0-auc:0.58541\n",
      "[12]\tvalidation_0-auc:0.58789\n",
      "[13]\tvalidation_0-auc:0.60866\n",
      "[14]\tvalidation_0-auc:0.60933\n",
      "[15]\tvalidation_0-auc:0.67603\n",
      "[16]\tvalidation_0-auc:0.68630\n",
      "[17]\tvalidation_0-auc:0.68781\n",
      "[18]\tvalidation_0-auc:0.69966\n",
      "[19]\tvalidation_0-auc:0.70483\n",
      "[20]\tvalidation_0-auc:0.67551\n",
      "[21]\tvalidation_0-auc:0.67524\n",
      "[22]\tvalidation_0-auc:0.67018\n",
      "[23]\tvalidation_0-auc:0.67561\n",
      "[24]\tvalidation_0-auc:0.69107\n",
      "[25]\tvalidation_0-auc:0.70065\n",
      "[26]\tvalidation_0-auc:0.70422\n",
      "[27]\tvalidation_0-auc:0.70749\n",
      "[28]\tvalidation_0-auc:0.70757\n",
      "[29]\tvalidation_0-auc:0.70565\n",
      "[30]\tvalidation_0-auc:0.70298\n",
      "[31]\tvalidation_0-auc:0.70273\n",
      "[32]\tvalidation_0-auc:0.70227\n",
      "[33]\tvalidation_0-auc:0.70691\n",
      "[34]\tvalidation_0-auc:0.71415\n",
      "[35]\tvalidation_0-auc:0.72994\n",
      "[36]\tvalidation_0-auc:0.73654\n",
      "[37]\tvalidation_0-auc:0.75395\n",
      "[38]\tvalidation_0-auc:0.75783\n",
      "[39]\tvalidation_0-auc:0.76015\n",
      "[40]\tvalidation_0-auc:0.77460\n",
      "[41]\tvalidation_0-auc:0.77550\n",
      "[42]\tvalidation_0-auc:0.77850\n",
      "[43]\tvalidation_0-auc:0.78121\n",
      "[44]\tvalidation_0-auc:0.77956\n",
      "[45]\tvalidation_0-auc:0.77999\n",
      "[46]\tvalidation_0-auc:0.77932\n",
      "[47]\tvalidation_0-auc:0.78059\n",
      "[48]\tvalidation_0-auc:0.78542\n",
      "[49]\tvalidation_0-auc:0.78444\n",
      "[50]\tvalidation_0-auc:0.78395\n",
      "[51]\tvalidation_0-auc:0.78752\n",
      "[52]\tvalidation_0-auc:0.79331\n",
      "[53]\tvalidation_0-auc:0.79173\n",
      "[54]\tvalidation_0-auc:0.79031\n",
      "[55]\tvalidation_0-auc:0.78734\n",
      "[56]\tvalidation_0-auc:0.77954\n",
      "[57]\tvalidation_0-auc:0.77893\n",
      "[58]\tvalidation_0-auc:0.77678\n",
      "[59]\tvalidation_0-auc:0.77335\n",
      "[60]\tvalidation_0-auc:0.77066\n",
      "[61]\tvalidation_0-auc:0.77166\n",
      "[62]\tvalidation_0-auc:0.77487\n",
      "Training time: 4.5411 seconds\n"
     ]
    }
   ],
   "source": [
    "model.fit(X_train, y_train, verbose=True, eval_set=[(X_test, y_test)])\n",
    "\n",
    "end_time = time.time()\n",
    "\n",
    "# Calculate training time\n",
    "training_time = end_time - start_time\n",
    "\n",
    "# Print the training time\n",
    "print(f\"Training time: {training_time:.4f} seconds\")"
   ]
  },
  {
   "cell_type": "markdown",
   "id": "3630e810-b925-45b6-beb1-80b48f0222e2",
   "metadata": {},
   "source": [
    "## Get predictions from model"
   ]
  },
  {
   "cell_type": "code",
   "execution_count": 123,
   "id": "24c12074-49e5-499a-acc4-13391ae70796",
   "metadata": {},
   "outputs": [
    {
     "name": "stdout",
     "output_type": "stream",
     "text": [
      "Inference time: 0.1344 seconds\n"
     ]
    }
   ],
   "source": [
    "start_time = time.time()\n",
    "\n",
    "y_pred = model.predict(X_test)\n",
    "\n",
    "end_time = time.time()\n",
    "\n",
    "# Calculate training time\n",
    "training_time = end_time - start_time\n",
    "\n",
    "# Print the training time\n",
    "print(f\"Inference time: {training_time:.4f} seconds\")"
   ]
  },
  {
   "cell_type": "markdown",
   "id": "0554e804-d129-426c-95f5-8988d597de10",
   "metadata": {},
   "source": [
    "## Plot confusion matrix"
   ]
  },
  {
   "cell_type": "code",
   "execution_count": 124,
   "id": "f63f260b-aa9d-41ae-a97e-c21b20f4a138",
   "metadata": {},
   "outputs": [
    {
     "data": {
      "text/plain": [
       "<sklearn.metrics._plot.confusion_matrix.ConfusionMatrixDisplay at 0x7f743ae07a70>"
      ]
     },
     "execution_count": 124,
     "metadata": {},
     "output_type": "execute_result"
    },
    {
     "data": {
      "image/png": "[encoded data removed]",
      "text/plain": [
       "<Figure size 640x480 with 2 Axes>"
      ]
     },
     "metadata": {},
     "output_type": "display_data"
    }
   ],
   "source": [
    "cm = confusion_matrix(y_test, y_pred)\n",
    "disp = ConfusionMatrixDisplay(confusion_matrix=cm)\n",
    "disp.plot()"
   ]
  },
  {
   "cell_type": "markdown",
   "id": "5ac25f1d-e66c-4d84-a800-2cec5c3cd094",
   "metadata": {},
   "source": [
    "## Get other metrics"
   ]
  },
  {
   "cell_type": "code",
   "execution_count": 125,
   "id": "9d7c2617-9be7-4e4c-8606-fecffd12f716",
   "metadata": {},
   "outputs": [
    {
     "name": "stdout",
     "output_type": "stream",
     "text": [
      "Accuracy:  0.9806471490191021\n",
      "Precision:  0.3821292775665399\n",
      "Recall:  0.2589094031773293\n",
      "F1 Score:  0.30867673406705914\n",
      "ROC-AUC:  0.7933104932949028\n",
      "PR-AUC (Average Precision):  0.2890084561173501\n",
      "Confusion Matrix:\n",
      " [[136262    975]\n",
      " [  1726    603]]\n",
      "Log Loss:  0.10442518173654382\n",
      "Cohen's Kappa:  0.29923050156569575\n"
     ]
    }
   ],
   "source": [
    "y_pred_proba = model.predict_proba(X_test)[:, 1] # Probabilities for positive class only\n",
    "\n",
    "print(\"Accuracy: \", accuracy_score(y_test, y_pred))\n",
    "print(\"Precision: \", precision_score(y_test, y_pred))\n",
    "print(\"Recall: \", recall_score(y_test, y_pred))\n",
    "print(\"F1 Score: \", f1_score(y_test, y_pred))\n",
    "print(\"ROC-AUC: \", roc_auc_score(y_test, y_pred_proba))\n",
    "print(\"PR-AUC (Average Precision): \", average_precision_score(y_test, y_pred_proba))\n",
    "print(\"Confusion Matrix:\\n\", confusion_matrix(y_test, y_pred, labels=[0,1]))\n",
    "print(\"Log Loss: \", log_loss(y_test, y_pred_proba))\n",
    "print(\"Cohen's Kappa: \", cohen_kappa_score(y_test, y_pred))"
   ]
  },
  {
   "cell_type": "markdown",
   "id": "463b4415-99f8-430a-9cac-3aad19be2f1f",
   "metadata": {},
   "source": [
    "## Optimize hyper parameters using Bayesian Optimization and Cross Validation"
   ]
  },
  {
   "cell_type": "markdown",
   "id": "338fde3d-80ab-4816-b5dc-066d49ece66c",
   "metadata": {},
   "source": [
    "### Round 1"
   ]
  },
  {
   "cell_type": "code",
   "execution_count": 126,
   "id": "1f4c512c-225e-4daa-8053-48d34d528c1e",
   "metadata": {},
   "outputs": [],
   "source": [
    "# Function to optimize\n",
    "def xgb_cv(gamma, learning_rate, max_depth, reg_lambda, scale_pos_weight):\n",
    "    model = xgb.XGBClassifier(\n",
    "        n_estimators=100,\n",
    "        gamma=gamma,\n",
    "        learning_rate=learning_rate,\n",
    "        max_depth=int(max_depth),  # Must be integer\n",
    "        reg_lambda=reg_lambda,\n",
    "        scale_pos_weight=scale_pos_weight,\n",
    "        use_label_encoder=False,\n",
    "        eval_metric='logloss',\n",
    "        random_state=42\n",
    "    )\n",
    "    scores = cross_val_score(model, X_train, y_train, cv=3, scoring='roc_auc')\n",
    "    return scores.mean()"
   ]
  },
  {
   "cell_type": "code",
   "execution_count": 127,
   "id": "6ba54b6f-709b-4356-9c2e-5f73ab1165ce",
   "metadata": {},
   "outputs": [],
   "source": [
    "param_grid = {\n",
    "    'max_depth': (3, 10),\n",
    "    'learning_rate': (0.01, 0.3),\n",
    "    'gamma': (0, 5),\n",
    "    'reg_lambda': (0, 10),\n",
    "    'scale_pos_weight': (1, 10)\n",
    "}"
   ]
  },
  {
   "cell_type": "code",
   "execution_count": 128,
   "id": "021a8e11-f139-4d0e-abe6-5a08de88ef33",
   "metadata": {},
   "outputs": [
    {
     "name": "stdout",
     "output_type": "stream",
     "text": [
      "|   iter    |  target   |   gamma   | learni... | max_depth | reg_la... | scale_... |\n",
      "-------------------------------------------------------------------------------------\n"
     ]
    },
    {
     "name": "stderr",
     "output_type": "stream",
     "text": [
      "/home/goose/PythonProjects/water-quality-pred/venv/lib/python3.12/site-packages/xgboost/training.py:183: UserWarning: [14:28:46] WARNING: /workspace/src/learner.cc:738: \n",
      "Parameters: { \"use_label_encoder\" } are not used.\n",
      "\n",
      "  bst.update(dtrain, iteration=i, fobj=obj)\n",
      "/home/goose/PythonProjects/water-quality-pred/venv/lib/python3.12/site-packages/xgboost/training.py:183: UserWarning: [14:28:48] WARNING: /workspace/src/learner.cc:738: \n",
      "Parameters: { \"use_label_encoder\" } are not used.\n",
      "\n",
      "  bst.update(dtrain, iteration=i, fobj=obj)\n",
      "/home/goose/PythonProjects/water-quality-pred/venv/lib/python3.12/site-packages/xgboost/training.py:183: UserWarning: [14:28:49] WARNING: /workspace/src/learner.cc:738: \n",
      "Parameters: { \"use_label_encoder\" } are not used.\n",
      "\n",
      "  bst.update(dtrain, iteration=i, fobj=obj)\n"
     ]
    },
    {
     "name": "stdout",
     "output_type": "stream",
     "text": [
      "| \u001b[39m1        \u001b[39m | \u001b[39m0.9969   \u001b[39m | \u001b[39m1.873    \u001b[39m | \u001b[39m0.2857   \u001b[39m | \u001b[39m8.124    \u001b[39m | \u001b[39m5.987    \u001b[39m | \u001b[39m2.404    \u001b[39m |\n"
     ]
    },
    {
     "name": "stderr",
     "output_type": "stream",
     "text": [
      "/home/goose/PythonProjects/water-quality-pred/venv/lib/python3.12/site-packages/xgboost/training.py:183: UserWarning: [14:28:51] WARNING: /workspace/src/learner.cc:738: \n",
      "Parameters: { \"use_label_encoder\" } are not used.\n",
      "\n",
      "  bst.update(dtrain, iteration=i, fobj=obj)\n",
      "/home/goose/PythonProjects/water-quality-pred/venv/lib/python3.12/site-packages/xgboost/training.py:183: UserWarning: [14:28:56] WARNING: /workspace/src/learner.cc:738: \n",
      "Parameters: { \"use_label_encoder\" } are not used.\n",
      "\n",
      "  bst.update(dtrain, iteration=i, fobj=obj)\n",
      "/home/goose/PythonProjects/water-quality-pred/venv/lib/python3.12/site-packages/xgboost/training.py:183: UserWarning: [14:28:58] WARNING: /workspace/src/learner.cc:738: \n",
      "Parameters: { \"use_label_encoder\" } are not used.\n",
      "\n",
      "  bst.update(dtrain, iteration=i, fobj=obj)\n"
     ]
    },
    {
     "name": "stdout",
     "output_type": "stream",
     "text": [
      "| \u001b[39m2        \u001b[39m | \u001b[39m0.9872   \u001b[39m | \u001b[39m0.78     \u001b[39m | \u001b[39m0.02684  \u001b[39m | \u001b[39m9.063    \u001b[39m | \u001b[39m6.011    \u001b[39m | \u001b[39m7.373    \u001b[39m |\n"
     ]
    },
    {
     "name": "stderr",
     "output_type": "stream",
     "text": [
      "/home/goose/PythonProjects/water-quality-pred/venv/lib/python3.12/site-packages/xgboost/training.py:183: UserWarning: [14:29:01] WARNING: /workspace/src/learner.cc:738: \n",
      "Parameters: { \"use_label_encoder\" } are not used.\n",
      "\n",
      "  bst.update(dtrain, iteration=i, fobj=obj)\n",
      "/home/goose/PythonProjects/water-quality-pred/venv/lib/python3.12/site-packages/xgboost/training.py:183: UserWarning: [14:29:06] WARNING: /workspace/src/learner.cc:738: \n",
      "Parameters: { \"use_label_encoder\" } are not used.\n",
      "\n",
      "  bst.update(dtrain, iteration=i, fobj=obj)\n",
      "/home/goose/PythonProjects/water-quality-pred/venv/lib/python3.12/site-packages/xgboost/training.py:183: UserWarning: [14:29:10] WARNING: /workspace/src/learner.cc:738: \n",
      "Parameters: { \"use_label_encoder\" } are not used.\n",
      "\n",
      "  bst.update(dtrain, iteration=i, fobj=obj)\n"
     ]
    },
    {
     "name": "stdout",
     "output_type": "stream",
     "text": [
      "| \u001b[39m3        \u001b[39m | \u001b[39m0.9958   \u001b[39m | \u001b[39m0.1029   \u001b[39m | \u001b[39m0.2913   \u001b[39m | \u001b[39m8.827    \u001b[39m | \u001b[39m2.123    \u001b[39m | \u001b[39m2.636    \u001b[39m |\n"
     ]
    },
    {
     "name": "stderr",
     "output_type": "stream",
     "text": [
      "/home/goose/PythonProjects/water-quality-pred/venv/lib/python3.12/site-packages/xgboost/training.py:183: UserWarning: [14:29:13] WARNING: /workspace/src/learner.cc:738: \n",
      "Parameters: { \"use_label_encoder\" } are not used.\n",
      "\n",
      "  bst.update(dtrain, iteration=i, fobj=obj)\n",
      "/home/goose/PythonProjects/water-quality-pred/venv/lib/python3.12/site-packages/xgboost/training.py:183: UserWarning: [14:29:15] WARNING: /workspace/src/learner.cc:738: \n",
      "Parameters: { \"use_label_encoder\" } are not used.\n",
      "\n",
      "  bst.update(dtrain, iteration=i, fobj=obj)\n",
      "/home/goose/PythonProjects/water-quality-pred/venv/lib/python3.12/site-packages/xgboost/training.py:183: UserWarning: [14:29:17] WARNING: /workspace/src/learner.cc:738: \n",
      "Parameters: { \"use_label_encoder\" } are not used.\n",
      "\n",
      "  bst.update(dtrain, iteration=i, fobj=obj)\n"
     ]
    },
    {
     "name": "stdout",
     "output_type": "stream",
     "text": [
      "| \u001b[39m4        \u001b[39m | \u001b[39m0.9948   \u001b[39m | \u001b[39m0.917    \u001b[39m | \u001b[39m0.09823  \u001b[39m | \u001b[39m6.673    \u001b[39m | \u001b[39m4.319    \u001b[39m | \u001b[39m3.621    \u001b[39m |\n"
     ]
    },
    {
     "name": "stderr",
     "output_type": "stream",
     "text": [
      "/home/goose/PythonProjects/water-quality-pred/venv/lib/python3.12/site-packages/xgboost/training.py:183: UserWarning: [14:29:19] WARNING: /workspace/src/learner.cc:738: \n",
      "Parameters: { \"use_label_encoder\" } are not used.\n",
      "\n",
      "  bst.update(dtrain, iteration=i, fobj=obj)\n",
      "/home/goose/PythonProjects/water-quality-pred/venv/lib/python3.12/site-packages/xgboost/training.py:183: UserWarning: [14:29:24] WARNING: /workspace/src/learner.cc:738: \n",
      "Parameters: { \"use_label_encoder\" } are not used.\n",
      "\n",
      "  bst.update(dtrain, iteration=i, fobj=obj)\n",
      "/home/goose/PythonProjects/water-quality-pred/venv/lib/python3.12/site-packages/xgboost/training.py:183: UserWarning: [14:29:26] WARNING: /workspace/src/learner.cc:738: \n",
      "Parameters: { \"use_label_encoder\" } are not used.\n",
      "\n",
      "  bst.update(dtrain, iteration=i, fobj=obj)\n"
     ]
    },
    {
     "name": "stdout",
     "output_type": "stream",
     "text": [
      "| \u001b[39m5        \u001b[39m | \u001b[39m0.9878   \u001b[39m | \u001b[39m3.059    \u001b[39m | \u001b[39m0.05045  \u001b[39m | \u001b[39m5.045    \u001b[39m | \u001b[39m3.664    \u001b[39m | \u001b[39m5.105    \u001b[39m |\n"
     ]
    },
    {
     "name": "stderr",
     "output_type": "stream",
     "text": [
      "/home/goose/PythonProjects/water-quality-pred/venv/lib/python3.12/site-packages/xgboost/training.py:183: UserWarning: [14:29:29] WARNING: /workspace/src/learner.cc:738: \n",
      "Parameters: { \"use_label_encoder\" } are not used.\n",
      "\n",
      "  bst.update(dtrain, iteration=i, fobj=obj)\n",
      "/home/goose/PythonProjects/water-quality-pred/venv/lib/python3.12/site-packages/xgboost/training.py:183: UserWarning: [14:29:32] WARNING: /workspace/src/learner.cc:738: \n",
      "Parameters: { \"use_label_encoder\" } are not used.\n",
      "\n",
      "  bst.update(dtrain, iteration=i, fobj=obj)\n",
      "/home/goose/PythonProjects/water-quality-pred/venv/lib/python3.12/site-packages/xgboost/training.py:183: UserWarning: [14:29:34] WARNING: /workspace/src/learner.cc:738: \n",
      "Parameters: { \"use_label_encoder\" } are not used.\n",
      "\n",
      "  bst.update(dtrain, iteration=i, fobj=obj)\n"
     ]
    },
    {
     "name": "stdout",
     "output_type": "stream",
     "text": [
      "| \u001b[39m6        \u001b[39m | \u001b[39m0.9962   \u001b[39m | \u001b[39m0.0      \u001b[39m | \u001b[39m0.3      \u001b[39m | \u001b[39m8.038    \u001b[39m | \u001b[39m4.737    \u001b[39m | \u001b[39m1.0      \u001b[39m |\n"
     ]
    },
    {
     "name": "stderr",
     "output_type": "stream",
     "text": [
      "/home/goose/PythonProjects/water-quality-pred/venv/lib/python3.12/site-packages/xgboost/training.py:183: UserWarning: [14:29:38] WARNING: /workspace/src/learner.cc:738: \n",
      "Parameters: { \"use_label_encoder\" } are not used.\n",
      "\n",
      "  bst.update(dtrain, iteration=i, fobj=obj)\n",
      "/home/goose/PythonProjects/water-quality-pred/venv/lib/python3.12/site-packages/xgboost/training.py:183: UserWarning: [14:29:41] WARNING: /workspace/src/learner.cc:738: \n",
      "Parameters: { \"use_label_encoder\" } are not used.\n",
      "\n",
      "  bst.update(dtrain, iteration=i, fobj=obj)\n",
      "/home/goose/PythonProjects/water-quality-pred/venv/lib/python3.12/site-packages/xgboost/training.py:183: UserWarning: [14:29:43] WARNING: /workspace/src/learner.cc:738: \n",
      "Parameters: { \"use_label_encoder\" } are not used.\n",
      "\n",
      "  bst.update(dtrain, iteration=i, fobj=obj)\n"
     ]
    },
    {
     "name": "stdout",
     "output_type": "stream",
     "text": [
      "| \u001b[39m7        \u001b[39m | \u001b[39m0.996    \u001b[39m | \u001b[39m3.635    \u001b[39m | \u001b[39m0.08522  \u001b[39m | \u001b[39m10.0     \u001b[39m | \u001b[39m3.751    \u001b[39m | \u001b[39m1.0      \u001b[39m |\n"
     ]
    },
    {
     "name": "stderr",
     "output_type": "stream",
     "text": [
      "/home/goose/PythonProjects/water-quality-pred/venv/lib/python3.12/site-packages/xgboost/training.py:183: UserWarning: [14:29:46] WARNING: /workspace/src/learner.cc:738: \n",
      "Parameters: { \"use_label_encoder\" } are not used.\n",
      "\n",
      "  bst.update(dtrain, iteration=i, fobj=obj)\n",
      "/home/goose/PythonProjects/water-quality-pred/venv/lib/python3.12/site-packages/xgboost/training.py:183: UserWarning: [14:29:48] WARNING: /workspace/src/learner.cc:738: \n",
      "Parameters: { \"use_label_encoder\" } are not used.\n",
      "\n",
      "  bst.update(dtrain, iteration=i, fobj=obj)\n",
      "/home/goose/PythonProjects/water-quality-pred/venv/lib/python3.12/site-packages/xgboost/training.py:183: UserWarning: [14:29:49] WARNING: /workspace/src/learner.cc:738: \n",
      "Parameters: { \"use_label_encoder\" } are not used.\n",
      "\n",
      "  bst.update(dtrain, iteration=i, fobj=obj)\n"
     ]
    },
    {
     "name": "stdout",
     "output_type": "stream",
     "text": [
      "| \u001b[39m8        \u001b[39m | \u001b[39m0.9944   \u001b[39m | \u001b[39m3.952    \u001b[39m | \u001b[39m0.3      \u001b[39m | \u001b[39m10.0     \u001b[39m | \u001b[39m9.14     \u001b[39m | \u001b[39m1.0      \u001b[39m |\n"
     ]
    },
    {
     "name": "stderr",
     "output_type": "stream",
     "text": [
      "/home/goose/PythonProjects/water-quality-pred/venv/lib/python3.12/site-packages/xgboost/training.py:183: UserWarning: [14:29:51] WARNING: /workspace/src/learner.cc:738: \n",
      "Parameters: { \"use_label_encoder\" } are not used.\n",
      "\n",
      "  bst.update(dtrain, iteration=i, fobj=obj)\n",
      "/home/goose/PythonProjects/water-quality-pred/venv/lib/python3.12/site-packages/xgboost/training.py:183: UserWarning: [14:29:55] WARNING: /workspace/src/learner.cc:738: \n",
      "Parameters: { \"use_label_encoder\" } are not used.\n",
      "\n",
      "  bst.update(dtrain, iteration=i, fobj=obj)\n",
      "/home/goose/PythonProjects/water-quality-pred/venv/lib/python3.12/site-packages/xgboost/training.py:183: UserWarning: [14:29:57] WARNING: /workspace/src/learner.cc:738: \n",
      "Parameters: { \"use_label_encoder\" } are not used.\n",
      "\n",
      "  bst.update(dtrain, iteration=i, fobj=obj)\n"
     ]
    },
    {
     "name": "stdout",
     "output_type": "stream",
     "text": [
      "| \u001b[39m9        \u001b[39m | \u001b[39m0.9737   \u001b[39m | \u001b[39m0.09265  \u001b[39m | \u001b[39m0.01645  \u001b[39m | \u001b[39m5.5      \u001b[39m | \u001b[39m8.831    \u001b[39m | \u001b[39m1.0      \u001b[39m |\n"
     ]
    },
    {
     "name": "stderr",
     "output_type": "stream",
     "text": [
      "/home/goose/PythonProjects/water-quality-pred/venv/lib/python3.12/site-packages/xgboost/training.py:183: UserWarning: [14:29:59] WARNING: /workspace/src/learner.cc:738: \n",
      "Parameters: { \"use_label_encoder\" } are not used.\n",
      "\n",
      "  bst.update(dtrain, iteration=i, fobj=obj)\n",
      "/home/goose/PythonProjects/water-quality-pred/venv/lib/python3.12/site-packages/xgboost/training.py:183: UserWarning: [14:30:00] WARNING: /workspace/src/learner.cc:738: \n",
      "Parameters: { \"use_label_encoder\" } are not used.\n",
      "\n",
      "  bst.update(dtrain, iteration=i, fobj=obj)\n",
      "/home/goose/PythonProjects/water-quality-pred/venv/lib/python3.12/site-packages/xgboost/training.py:183: UserWarning: [14:30:04] WARNING: /workspace/src/learner.cc:738: \n",
      "Parameters: { \"use_label_encoder\" } are not used.\n",
      "\n",
      "  bst.update(dtrain, iteration=i, fobj=obj)\n"
     ]
    },
    {
     "name": "stdout",
     "output_type": "stream",
     "text": [
      "| \u001b[39m10       \u001b[39m | \u001b[39m0.9938   \u001b[39m | \u001b[39m5.0      \u001b[39m | \u001b[39m0.3      \u001b[39m | \u001b[39m10.0     \u001b[39m | \u001b[39m6.186    \u001b[39m | \u001b[39m3.679    \u001b[39m |\n"
     ]
    },
    {
     "name": "stderr",
     "output_type": "stream",
     "text": [
      "/home/goose/PythonProjects/water-quality-pred/venv/lib/python3.12/site-packages/xgboost/training.py:183: UserWarning: [14:30:07] WARNING: /workspace/src/learner.cc:738: \n",
      "Parameters: { \"use_label_encoder\" } are not used.\n",
      "\n",
      "  bst.update(dtrain, iteration=i, fobj=obj)\n",
      "/home/goose/PythonProjects/water-quality-pred/venv/lib/python3.12/site-packages/xgboost/training.py:183: UserWarning: [14:30:10] WARNING: /workspace/src/learner.cc:738: \n",
      "Parameters: { \"use_label_encoder\" } are not used.\n",
      "\n",
      "  bst.update(dtrain, iteration=i, fobj=obj)\n",
      "/home/goose/PythonProjects/water-quality-pred/venv/lib/python3.12/site-packages/xgboost/training.py:183: UserWarning: [14:30:11] WARNING: /workspace/src/learner.cc:738: \n",
      "Parameters: { \"use_label_encoder\" } are not used.\n",
      "\n",
      "  bst.update(dtrain, iteration=i, fobj=obj)\n"
     ]
    },
    {
     "name": "stdout",
     "output_type": "stream",
     "text": [
      "| \u001b[39m11       \u001b[39m | \u001b[39m0.9966   \u001b[39m | \u001b[39m3.058    \u001b[39m | \u001b[39m0.3      \u001b[39m | \u001b[39m7.029    \u001b[39m | \u001b[39m0.0      \u001b[39m | \u001b[39m1.0      \u001b[39m |\n"
     ]
    },
    {
     "name": "stderr",
     "output_type": "stream",
     "text": [
      "/home/goose/PythonProjects/water-quality-pred/venv/lib/python3.12/site-packages/xgboost/training.py:183: UserWarning: [14:30:13] WARNING: /workspace/src/learner.cc:738: \n",
      "Parameters: { \"use_label_encoder\" } are not used.\n",
      "\n",
      "  bst.update(dtrain, iteration=i, fobj=obj)\n",
      "/home/goose/PythonProjects/water-quality-pred/venv/lib/python3.12/site-packages/xgboost/training.py:183: UserWarning: [14:30:15] WARNING: /workspace/src/learner.cc:738: \n",
      "Parameters: { \"use_label_encoder\" } are not used.\n",
      "\n",
      "  bst.update(dtrain, iteration=i, fobj=obj)\n",
      "/home/goose/PythonProjects/water-quality-pred/venv/lib/python3.12/site-packages/xgboost/training.py:183: UserWarning: [14:30:16] WARNING: /workspace/src/learner.cc:738: \n",
      "Parameters: { \"use_label_encoder\" } are not used.\n",
      "\n",
      "  bst.update(dtrain, iteration=i, fobj=obj)\n"
     ]
    },
    {
     "name": "stdout",
     "output_type": "stream",
     "text": [
      "| \u001b[39m12       \u001b[39m | \u001b[39m0.9969   \u001b[39m | \u001b[39m0.0      \u001b[39m | \u001b[39m0.3      \u001b[39m | \u001b[39m4.354    \u001b[39m | \u001b[39m0.0      \u001b[39m | \u001b[39m1.0      \u001b[39m |\n"
     ]
    },
    {
     "name": "stderr",
     "output_type": "stream",
     "text": [
      "/home/goose/PythonProjects/water-quality-pred/venv/lib/python3.12/site-packages/xgboost/training.py:183: UserWarning: [14:30:18] WARNING: /workspace/src/learner.cc:738: \n",
      "Parameters: { \"use_label_encoder\" } are not used.\n",
      "\n",
      "  bst.update(dtrain, iteration=i, fobj=obj)\n",
      "/home/goose/PythonProjects/water-quality-pred/venv/lib/python3.12/site-packages/xgboost/training.py:183: UserWarning: [14:30:20] WARNING: /workspace/src/learner.cc:738: \n",
      "Parameters: { \"use_label_encoder\" } are not used.\n",
      "\n",
      "  bst.update(dtrain, iteration=i, fobj=obj)\n",
      "/home/goose/PythonProjects/water-quality-pred/venv/lib/python3.12/site-packages/xgboost/training.py:183: UserWarning: [14:30:23] WARNING: /workspace/src/learner.cc:738: \n",
      "Parameters: { \"use_label_encoder\" } are not used.\n",
      "\n",
      "  bst.update(dtrain, iteration=i, fobj=obj)\n"
     ]
    },
    {
     "name": "stdout",
     "output_type": "stream",
     "text": [
      "| \u001b[39m13       \u001b[39m | \u001b[39m0.9903   \u001b[39m | \u001b[39m5.0      \u001b[39m | \u001b[39m0.3      \u001b[39m | \u001b[39m10.0     \u001b[39m | \u001b[39m0.0      \u001b[39m | \u001b[39m10.0     \u001b[39m |\n"
     ]
    },
    {
     "name": "stderr",
     "output_type": "stream",
     "text": [
      "/home/goose/PythonProjects/water-quality-pred/venv/lib/python3.12/site-packages/xgboost/training.py:183: UserWarning: [14:30:25] WARNING: /workspace/src/learner.cc:738: \n",
      "Parameters: { \"use_label_encoder\" } are not used.\n",
      "\n",
      "  bst.update(dtrain, iteration=i, fobj=obj)\n",
      "/home/goose/PythonProjects/water-quality-pred/venv/lib/python3.12/site-packages/xgboost/training.py:183: UserWarning: [14:30:27] WARNING: /workspace/src/learner.cc:738: \n",
      "Parameters: { \"use_label_encoder\" } are not used.\n",
      "\n",
      "  bst.update(dtrain, iteration=i, fobj=obj)\n",
      "/home/goose/PythonProjects/water-quality-pred/venv/lib/python3.12/site-packages/xgboost/training.py:183: UserWarning: [14:30:28] WARNING: /workspace/src/learner.cc:738: \n",
      "Parameters: { \"use_label_encoder\" } are not used.\n",
      "\n",
      "  bst.update(dtrain, iteration=i, fobj=obj)\n"
     ]
    },
    {
     "name": "stdout",
     "output_type": "stream",
     "text": [
      "| \u001b[39m14       \u001b[39m | \u001b[39m0.9952   \u001b[39m | \u001b[39m5.0      \u001b[39m | \u001b[39m0.3      \u001b[39m | \u001b[39m10.0     \u001b[39m | \u001b[39m0.0      \u001b[39m | \u001b[39m2.99     \u001b[39m |\n"
     ]
    },
    {
     "name": "stderr",
     "output_type": "stream",
     "text": [
      "/home/goose/PythonProjects/water-quality-pred/venv/lib/python3.12/site-packages/xgboost/training.py:183: UserWarning: [14:30:30] WARNING: /workspace/src/learner.cc:738: \n",
      "Parameters: { \"use_label_encoder\" } are not used.\n",
      "\n",
      "  bst.update(dtrain, iteration=i, fobj=obj)\n",
      "/home/goose/PythonProjects/water-quality-pred/venv/lib/python3.12/site-packages/xgboost/training.py:183: UserWarning: [14:30:32] WARNING: /workspace/src/learner.cc:738: \n",
      "Parameters: { \"use_label_encoder\" } are not used.\n",
      "\n",
      "  bst.update(dtrain, iteration=i, fobj=obj)\n",
      "/home/goose/PythonProjects/water-quality-pred/venv/lib/python3.12/site-packages/xgboost/training.py:183: UserWarning: [14:30:33] WARNING: /workspace/src/learner.cc:738: \n",
      "Parameters: { \"use_label_encoder\" } are not used.\n",
      "\n",
      "  bst.update(dtrain, iteration=i, fobj=obj)\n"
     ]
    },
    {
     "name": "stdout",
     "output_type": "stream",
     "text": [
      "| \u001b[39m15       \u001b[39m | \u001b[39m0.9945   \u001b[39m | \u001b[39m4.9      \u001b[39m | \u001b[39m0.3      \u001b[39m | \u001b[39m3.0      \u001b[39m | \u001b[39m0.0      \u001b[39m | \u001b[39m1.0      \u001b[39m |\n"
     ]
    },
    {
     "name": "stderr",
     "output_type": "stream",
     "text": [
      "/home/goose/PythonProjects/water-quality-pred/venv/lib/python3.12/site-packages/xgboost/training.py:183: UserWarning: [14:30:35] WARNING: /workspace/src/learner.cc:738: \n",
      "Parameters: { \"use_label_encoder\" } are not used.\n",
      "\n",
      "  bst.update(dtrain, iteration=i, fobj=obj)\n",
      "/home/goose/PythonProjects/water-quality-pred/venv/lib/python3.12/site-packages/xgboost/training.py:183: UserWarning: [14:30:39] WARNING: /workspace/src/learner.cc:738: \n",
      "Parameters: { \"use_label_encoder\" } are not used.\n",
      "\n",
      "  bst.update(dtrain, iteration=i, fobj=obj)\n",
      "/home/goose/PythonProjects/water-quality-pred/venv/lib/python3.12/site-packages/xgboost/training.py:183: UserWarning: [14:30:40] WARNING: /workspace/src/learner.cc:738: \n",
      "Parameters: { \"use_label_encoder\" } are not used.\n",
      "\n",
      "  bst.update(dtrain, iteration=i, fobj=obj)\n"
     ]
    },
    {
     "name": "stdout",
     "output_type": "stream",
     "text": [
      "| \u001b[39m16       \u001b[39m | \u001b[39m0.9955   \u001b[39m | \u001b[39m5.0      \u001b[39m | \u001b[39m0.3      \u001b[39m | \u001b[39m6.66     \u001b[39m | \u001b[39m3.626    \u001b[39m | \u001b[39m1.0      \u001b[39m |\n"
     ]
    },
    {
     "name": "stderr",
     "output_type": "stream",
     "text": [
      "/home/goose/PythonProjects/water-quality-pred/venv/lib/python3.12/site-packages/xgboost/training.py:183: UserWarning: [14:30:42] WARNING: /workspace/src/learner.cc:738: \n",
      "Parameters: { \"use_label_encoder\" } are not used.\n",
      "\n",
      "  bst.update(dtrain, iteration=i, fobj=obj)\n",
      "/home/goose/PythonProjects/water-quality-pred/venv/lib/python3.12/site-packages/xgboost/training.py:183: UserWarning: [14:30:43] WARNING: /workspace/src/learner.cc:738: \n",
      "Parameters: { \"use_label_encoder\" } are not used.\n",
      "\n",
      "  bst.update(dtrain, iteration=i, fobj=obj)\n",
      "/home/goose/PythonProjects/water-quality-pred/venv/lib/python3.12/site-packages/xgboost/training.py:183: UserWarning: [14:30:45] WARNING: /workspace/src/learner.cc:738: \n",
      "Parameters: { \"use_label_encoder\" } are not used.\n",
      "\n",
      "  bst.update(dtrain, iteration=i, fobj=obj)\n"
     ]
    },
    {
     "name": "stdout",
     "output_type": "stream",
     "text": [
      "| \u001b[39m17       \u001b[39m | \u001b[39m0.879    \u001b[39m | \u001b[39m5.0      \u001b[39m | \u001b[39m0.01     \u001b[39m | \u001b[39m3.0      \u001b[39m | \u001b[39m10.0     \u001b[39m | \u001b[39m10.0     \u001b[39m |\n"
     ]
    },
    {
     "name": "stderr",
     "output_type": "stream",
     "text": [
      "/home/goose/PythonProjects/water-quality-pred/venv/lib/python3.12/site-packages/xgboost/training.py:183: UserWarning: [14:30:47] WARNING: /workspace/src/learner.cc:738: \n",
      "Parameters: { \"use_label_encoder\" } are not used.\n",
      "\n",
      "  bst.update(dtrain, iteration=i, fobj=obj)\n",
      "/home/goose/PythonProjects/water-quality-pred/venv/lib/python3.12/site-packages/xgboost/training.py:183: UserWarning: [14:30:49] WARNING: /workspace/src/learner.cc:738: \n",
      "Parameters: { \"use_label_encoder\" } are not used.\n",
      "\n",
      "  bst.update(dtrain, iteration=i, fobj=obj)\n",
      "/home/goose/PythonProjects/water-quality-pred/venv/lib/python3.12/site-packages/xgboost/training.py:183: UserWarning: [14:30:54] WARNING: /workspace/src/learner.cc:738: \n",
      "Parameters: { \"use_label_encoder\" } are not used.\n",
      "\n",
      "  bst.update(dtrain, iteration=i, fobj=obj)\n"
     ]
    },
    {
     "name": "stdout",
     "output_type": "stream",
     "text": [
      "| \u001b[39m18       \u001b[39m | \u001b[39m0.9924   \u001b[39m | \u001b[39m0.0      \u001b[39m | \u001b[39m0.3      \u001b[39m | \u001b[39m10.0     \u001b[39m | \u001b[39m0.0      \u001b[39m | \u001b[39m10.0     \u001b[39m |\n"
     ]
    },
    {
     "name": "stderr",
     "output_type": "stream",
     "text": [
      "/home/goose/PythonProjects/water-quality-pred/venv/lib/python3.12/site-packages/xgboost/training.py:183: UserWarning: [14:30:58] WARNING: /workspace/src/learner.cc:738: \n",
      "Parameters: { \"use_label_encoder\" } are not used.\n",
      "\n",
      "  bst.update(dtrain, iteration=i, fobj=obj)\n",
      "/home/goose/PythonProjects/water-quality-pred/venv/lib/python3.12/site-packages/xgboost/training.py:183: UserWarning: [14:31:00] WARNING: /workspace/src/learner.cc:738: \n",
      "Parameters: { \"use_label_encoder\" } are not used.\n",
      "\n",
      "  bst.update(dtrain, iteration=i, fobj=obj)\n",
      "/home/goose/PythonProjects/water-quality-pred/venv/lib/python3.12/site-packages/xgboost/training.py:183: UserWarning: [14:31:02] WARNING: /workspace/src/learner.cc:738: \n",
      "Parameters: { \"use_label_encoder\" } are not used.\n",
      "\n",
      "  bst.update(dtrain, iteration=i, fobj=obj)\n"
     ]
    },
    {
     "name": "stdout",
     "output_type": "stream",
     "text": [
      "| \u001b[39m19       \u001b[39m | \u001b[39m0.9962   \u001b[39m | \u001b[39m0.0      \u001b[39m | \u001b[39m0.3      \u001b[39m | \u001b[39m3.0      \u001b[39m | \u001b[39m0.0      \u001b[39m | \u001b[39m7.867    \u001b[39m |\n"
     ]
    },
    {
     "name": "stderr",
     "output_type": "stream",
     "text": [
      "/home/goose/PythonProjects/water-quality-pred/venv/lib/python3.12/site-packages/xgboost/training.py:183: UserWarning: [14:31:06] WARNING: /workspace/src/learner.cc:738: \n",
      "Parameters: { \"use_label_encoder\" } are not used.\n",
      "\n",
      "  bst.update(dtrain, iteration=i, fobj=obj)\n",
      "/home/goose/PythonProjects/water-quality-pred/venv/lib/python3.12/site-packages/xgboost/training.py:183: UserWarning: [14:31:10] WARNING: /workspace/src/learner.cc:738: \n",
      "Parameters: { \"use_label_encoder\" } are not used.\n",
      "\n",
      "  bst.update(dtrain, iteration=i, fobj=obj)\n",
      "/home/goose/PythonProjects/water-quality-pred/venv/lib/python3.12/site-packages/xgboost/training.py:183: UserWarning: [14:31:12] WARNING: /workspace/src/learner.cc:738: \n",
      "Parameters: { \"use_label_encoder\" } are not used.\n",
      "\n",
      "  bst.update(dtrain, iteration=i, fobj=obj)\n"
     ]
    },
    {
     "name": "stdout",
     "output_type": "stream",
     "text": [
      "| \u001b[39m20       \u001b[39m | \u001b[39m0.9824   \u001b[39m | \u001b[39m2.867    \u001b[39m | \u001b[39m0.01     \u001b[39m | \u001b[39m6.365    \u001b[39m | \u001b[39m0.0      \u001b[39m | \u001b[39m5.855    \u001b[39m |\n",
      "=====================================================================================\n",
      "Best result: {'target': np.float64(0.996908283905865), 'params': {'gamma': np.float64(1.8727005942368125), 'learning_rate': np.float64(0.28570714885887566), 'max_depth': np.float64(8.123957592679837), 'reg_lambda': np.float64(5.986584841970366), 'scale_pos_weight': np.float64(2.4041677639819286)}}\n"
     ]
    }
   ],
   "source": [
    "optimizer = BayesianOptimization(\n",
    "    f=xgb_cv,\n",
    "    pbounds=param_grid,\n",
    "    random_state=42,\n",
    "    verbose=2\n",
    ")\n",
    "\n",
    "optimizer.maximize(\n",
    "    init_points=5,\n",
    "    n_iter=15\n",
    ")\n",
    "\n",
    "# Print best result\n",
    "print(\"Best result:\", optimizer.max)"
   ]
  },
  {
   "cell_type": "code",
   "execution_count": 129,
   "id": "0d548fd2-c488-4d84-be82-5845a53a3dee",
   "metadata": {},
   "outputs": [],
   "source": [
    "start_time = time.time()\n",
    "optimized_model = xgb.XGBClassifier(\n",
    "    seed=42,\n",
    "    objective='binary:logistic',\n",
    "    gamma=1.8727005942368125,\n",
    "    learning_rate=0.28570714885887566,\n",
    "    max_depth=8,\n",
    "    reg_lambda=5.986584841970366,\n",
    "    scale_pos_weight=2.4041677639819286,\n",
    "    subsample=0.9,\n",
    "    colsample_bytree=0.5,\n",
    "    early_stopping_rounds=10,\n",
    "    eval_metric='auc',\n",
    ")"
   ]
  },
  {
   "cell_type": "code",
   "execution_count": 130,
   "id": "5edf9e24-ac00-47a2-b3b0-9e3086810b25",
   "metadata": {},
   "outputs": [
    {
     "name": "stdout",
     "output_type": "stream",
     "text": [
      "[0]\tvalidation_0-auc:0.77461\n",
      "[1]\tvalidation_0-auc:0.77111\n",
      "[2]\tvalidation_0-auc:0.72460\n",
      "[3]\tvalidation_0-auc:0.76117\n",
      "[4]\tvalidation_0-auc:0.74615\n",
      "[5]\tvalidation_0-auc:0.74017\n",
      "[6]\tvalidation_0-auc:0.74362\n",
      "[7]\tvalidation_0-auc:0.78705\n",
      "[8]\tvalidation_0-auc:0.79183\n",
      "[9]\tvalidation_0-auc:0.79451\n",
      "[10]\tvalidation_0-auc:0.78551\n",
      "[11]\tvalidation_0-auc:0.77805\n",
      "[12]\tvalidation_0-auc:0.76639\n",
      "[13]\tvalidation_0-auc:0.76485\n",
      "[14]\tvalidation_0-auc:0.74954\n",
      "[15]\tvalidation_0-auc:0.74620\n",
      "[16]\tvalidation_0-auc:0.75958\n",
      "[17]\tvalidation_0-auc:0.77778\n",
      "[18]\tvalidation_0-auc:0.78229\n",
      "[19]\tvalidation_0-auc:0.80200\n",
      "[20]\tvalidation_0-auc:0.80197\n",
      "[21]\tvalidation_0-auc:0.79735\n",
      "[22]\tvalidation_0-auc:0.79355\n",
      "[23]\tvalidation_0-auc:0.79120\n",
      "[24]\tvalidation_0-auc:0.80967\n",
      "[25]\tvalidation_0-auc:0.80365\n",
      "[26]\tvalidation_0-auc:0.80680\n",
      "[27]\tvalidation_0-auc:0.80907\n",
      "[28]\tvalidation_0-auc:0.81390\n",
      "[29]\tvalidation_0-auc:0.82009\n",
      "[30]\tvalidation_0-auc:0.82227\n",
      "[31]\tvalidation_0-auc:0.82008\n",
      "[32]\tvalidation_0-auc:0.82005\n",
      "[33]\tvalidation_0-auc:0.83541\n",
      "[34]\tvalidation_0-auc:0.82897\n",
      "[35]\tvalidation_0-auc:0.82713\n",
      "[36]\tvalidation_0-auc:0.82694\n",
      "[37]\tvalidation_0-auc:0.82701\n",
      "[38]\tvalidation_0-auc:0.82954\n",
      "[39]\tvalidation_0-auc:0.83170\n",
      "[40]\tvalidation_0-auc:0.83243\n",
      "[41]\tvalidation_0-auc:0.83477\n",
      "[42]\tvalidation_0-auc:0.83448\n",
      "[43]\tvalidation_0-auc:0.83700\n",
      "[44]\tvalidation_0-auc:0.83497\n",
      "[45]\tvalidation_0-auc:0.83493\n",
      "[46]\tvalidation_0-auc:0.83563\n",
      "[47]\tvalidation_0-auc:0.83549\n",
      "[48]\tvalidation_0-auc:0.83556\n",
      "[49]\tvalidation_0-auc:0.82883\n",
      "[50]\tvalidation_0-auc:0.83665\n",
      "[51]\tvalidation_0-auc:0.83606\n",
      "[52]\tvalidation_0-auc:0.83587\n",
      "[53]\tvalidation_0-auc:0.83460\n",
      "Inference time: 3.8961 seconds\n"
     ]
    }
   ],
   "source": [
    "optimized_model.fit(X_train, y_train, verbose=True, eval_set=[(X_test, y_test)])\n",
    "\n",
    "end_time = time.time()\n",
    "\n",
    "# Calculate training time\n",
    "training_time = end_time - start_time\n",
    "\n",
    "# Print the training time\n",
    "print(f\"Inference time: {training_time:.4f} seconds\")"
   ]
  },
  {
   "cell_type": "code",
   "execution_count": 131,
   "id": "fcb011fa",
   "metadata": {},
   "outputs": [
    {
     "name": "stdout",
     "output_type": "stream",
     "text": [
      "Training time: 0.1486 seconds\n"
     ]
    }
   ],
   "source": [
    "start_time = time.time()\n",
    "\n",
    "y_pred = optimized_model.predict(X_test)\n",
    "\n",
    "end_time = time.time()\n",
    "\n",
    "# Calculate training time\n",
    "training_time = end_time - start_time\n",
    "\n",
    "# Print the training time\n",
    "print(f\"Training time: {training_time:.4f} seconds\")"
   ]
  },
  {
   "cell_type": "code",
   "execution_count": 132,
   "id": "1b74bea5",
   "metadata": {},
   "outputs": [
    {
     "data": {
      "text/plain": [
       "<sklearn.metrics._plot.confusion_matrix.ConfusionMatrixDisplay at 0x7f743ae2a900>"
      ]
     },
     "execution_count": 132,
     "metadata": {},
     "output_type": "execute_result"
    },
    {
     "data": {
      "image/png": "[encoded data removed]",
      "text/plain": [
       "<Figure size 640x480 with 2 Axes>"
      ]
     },
     "metadata": {},
     "output_type": "display_data"
    }
   ],
   "source": [
    "cm = confusion_matrix(y_test, y_pred)\n",
    "disp = ConfusionMatrixDisplay(confusion_matrix=cm)\n",
    "disp.plot()"
   ]
  },
  {
   "cell_type": "code",
   "execution_count": 133,
   "id": "9dc2aeb6",
   "metadata": {},
   "outputs": [
    {
     "name": "stdout",
     "output_type": "stream",
     "text": [
      "Accuracy:  0.9840792170012754\n",
      "Precision:  0.5397178916109874\n",
      "Recall:  0.31215113782739373\n",
      "F1 Score:  0.3955386289445049\n",
      "ROC-AUC:  0.83700462135041\n",
      "PR-AUC (Average Precision):  0.36566767256358845\n",
      "Confusion Matrix:\n",
      " [[136617    620]\n",
      " [  1602    727]]\n",
      "Log Loss:  0.06955097311843758\n",
      "Cohen's Kappa:  0.3880547890840246\n"
     ]
    }
   ],
   "source": [
    "y_pred_proba = optimized_model.predict_proba(X_test)[:, 1] # Probabilities for positive class only\n",
    "\n",
    "print(\"Accuracy: \", accuracy_score(y_test, y_pred))\n",
    "print(\"Precision: \", precision_score(y_test, y_pred))\n",
    "print(\"Recall: \", recall_score(y_test, y_pred))\n",
    "print(\"F1 Score: \", f1_score(y_test, y_pred))\n",
    "print(\"ROC-AUC: \", roc_auc_score(y_test, y_pred_proba))\n",
    "print(\"PR-AUC (Average Precision): \", average_precision_score(y_test, y_pred_proba))\n",
    "print(\"Confusion Matrix:\\n\", confusion_matrix(y_test, y_pred, labels=[0,1]))\n",
    "print(\"Log Loss: \", log_loss(y_test, y_pred_proba))\n",
    "print(\"Cohen's Kappa: \", cohen_kappa_score(y_test, y_pred))"
   ]
  },
  {
   "cell_type": "code",
   "execution_count": null,
   "id": "ab9c7c2b",
   "metadata": {},
   "outputs": [],
   "source": []
  }
 ],
 "metadata": {
  "kernelspec": {
   "display_name": "Python 3 (ipykernel)",
   "language": "python",
   "name": "python3"
  },
  "language_info": {
   "codemirror_mode": {
    "name": "ipython",
    "version": 3
   },
   "file_extension": ".py",
   "mimetype": "text/x-python",
   "name": "python",
   "nbconvert_exporter": "python",
   "pygments_lexer": "ipython3",
   "version": "3.12.10"
  }
 },
 "nbformat": 4,
 "nbformat_minor": 5
}
